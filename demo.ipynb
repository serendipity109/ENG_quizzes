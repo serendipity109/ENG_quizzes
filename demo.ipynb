{
 "cells": [
  {
   "cell_type": "code",
   "execution_count": 337,
   "id": "ce83f9a5-3e6e-44cb-a3f1-59b43496e48f",
   "metadata": {
    "collapsed": true,
    "jupyter": {
     "outputs_hidden": true
    },
    "tags": []
   },
   "outputs": [
    {
     "data": {
      "text/plain": [
       "'Roy is an American student.  He is now living with the Lin family in Taipei.  The Moon Festival is coming, and the Lin family are planning something special for that day.  Look at the schedule and answer the questions.（\\u3000）(１)\\u3000Today is the Moon Festival.  Where are the Lin family enjoying their lunch with Roy?\\u3000(Ａ)\\u3000At home.\\u3000(Ｂ)\\u3000At a famous restaurant.\\u3000(Ｃ)\\u3000At the park.\\u3000(Ｄ)\\u3000At Taipei 101.（\\u3000）(２)\\u3000Roy is now watching the moon through（透過）the binoculars（望遠鏡）.  Where is he, and what time may it be?\\u3000(Ａ)\\u3000At 9:00 a.m. at the park.\\u3000(Ｂ)\\u3000At 10:00 a.m. at the basketball court.\\u3000(Ｃ)\\u3000At 7:00 p.m. at a restaurant.\\u3000(Ｄ)\\u3000At 9:00 p.m. at Taipei 101.\\u3000\\u3000Billy was sad when he lost his heart, but he knew who took it.  The girl ran away with Billy’s heart, and he still waited for her to come back.\\u2028\\u3000\\u3000Years later, Billy met the girl on the road, but she was not like his loved girl.  He tried to talk to her, but she was not the girl of years ago.\\u2028\\u3000\\u3000Now Billy knows he can take his heart back and say goodbye to the girl.  It’s time for him to let her go.  It’s time for him to lose his heart to someone else again.（\\u3000）(１)\\u3000Which is said（提及）in the reading?\\u3000(Ａ)\\u3000A past（逝去的）love.\\u3000(Ｂ)\\u3000A heart attack（心臟病）.\\u3000(Ｃ)\\u3000How to love a girl.\\u3000(Ｄ)\\u3000How to say goodbye to a girl.（\\u3000）(２)\\u3000What does Billy want to do right now?\\u3000(Ａ)\\u3000To write love letters（信）to the girl.\\u3000(Ｂ)\\u3000To travel with the girl.\\u3000(Ｃ)\\u3000To run away with the girl.\\u3000(Ｄ)\\u3000To say goodbye to the girl and find（找到）a new love.\\u3000\\u3000On a hot day in summer, a rabbit went down to a river and drank some water.  The rabbit looked at himself in the water and liked his beautiful long ears, but he wasn’t satisfied with his short legs.\\u2028\\u3000\\u3000After the rabbit drank the water, a tiger jumped on him.  With his short legs, the rabbit ran very fast, and the tiger did not catch up with him.\\u2028\\u3000\\u3000The rabbit was happy because the tiger did not catch him.  Ten minutes later, the tiger showed up again.  When the rabbit saw the tiger, the tiger caught him by his long ears.  That was the end of the story.（\\u3000）(１)\\u3000Which is implied（暗示；隱喻）in the reading?\\u3000(Ａ)\\u3000Drinking water in the river is not a good idea（點子）.\\u3000(Ｂ)\\u3000Beautiful things（事物）may bring（帶來）trouble.\\u3000(Ｃ)\\u3000A tiger runs fast, but a rabbit doesn’t.\\u3000(Ｄ)\\u3000A rabbit has long ears and short legs.（\\u3000）(２)\\u3000Which is right about the rabbit in the story?\\u3000(Ａ)\\u3000The tiger ate the rabbit in his sleep.\\u3000(Ｂ)\\u3000The tiger caught the rabbit’s tail（尾巴）in the end.\\u3000(Ｃ)\\u3000The rabbit could run away the first time.\\u3000(Ｄ)\\u3000The rabbit could jump onto（到…上面）the tiger.Brad: Dad, who’s the little girl over there?  Why is she shaking her head like that on the street?  She looks so funny.\\u2028\\u3000Dad: Brad!  Don’t say anything like that again.  She is just sick.\\u2028Brad: Oops, I’m sorry.  I won’t do it again.  But who is she?  I never saw her before.\\u2028\\u3000Dad: Cathy just moved into the house next to our house.  Ms. Love took her home last month.  She takes care of kids in need of special help.  Cathy is one of them.\\u2028Brad: Can I help, too?\\u2028\\u3000Dad: Sure.  But we must know: people may look different, but we are all the same.  We all need love and care in difficult times.\\u2028Brad: I see, Dad.  Let’s visit Ms. Love and Cathy some other time.\\u2028\\u3000Dad: OK.  How about this weekend?\\u2028Brad: I can’t wait!（\\u3000）(１)\\u3000Who may be sick in the story?\\u3000(Ａ)\\u3000Brad.\\u3000(Ｂ)\\u3000Cathy.\\u3000(Ｃ)\\u3000Ms. Love.\\u3000(Ｄ)\\u3000Brad’s dad.（\\u3000）(２)\\u3000What WON’T Brad do again?\\u3000(Ａ)\\u3000He won’t get sick.\\u3000(Ｂ)\\u3000He won’t talk about other kids.\\u3000(Ｃ)\\u3000He won’t shake his head on the street.\\u3000(Ｄ)\\u3000He won’t be rude（粗魯的）in talking about other people.（\\u3000）(３)\\u3000What does Brad’s dad mean（意指）by saying, “we are all the same”?\\u3000(Ａ)\\u3000People need love and care from other people in difficult times.\\u3000(Ｂ)\\u3000People need to say and do the same thing（事物）.\\u3000(Ｃ)\\u3000People need to be happy every day.\\u3000(Ｄ)\\u3000People need to live in the same place every day.Ms. Love: Jason, why are you late again today?\\u2028\\u3000\\u3000Jason: My cute dog was very sick this morning, so I took him to a vet.\\u2028Ms. Love: OK.  Then, where’s your English homework?\\u2028\\u3000\\u3000Jason: I didn’t finish it.\\u2028Ms. Love: Why not?\\u2028\\u3000\\u3000Jason: Because my dad went to a wedding, he got home very late.  He didn’t help me do it.\\u2028Ms. Love: What?!  Call your mom and ask her to come to school NOW.（\\u3000）(１)\\u3000Why DIDN’T Jason do his English homework last night?\\u3000(Ａ)\\u3000He was sick.\\u3000(Ｂ)\\u3000He went to bed early.\\u3000(Ｃ)\\u3000His father was busy, and he didn’t have time to help Jason with it.\\u3000(Ｄ)\\u3000His brother took it.（\\u3000）(２)\\u3000Which is right about Jason?\\u3000(Ａ)\\u3000He has a cute cat.\\u3000(Ｂ)\\u3000He never takes his pet（寵物）to a vet because it’s too much money.\\u3000(Ｃ)\\u3000His teacher, Ms. Love, wants to talk to his father at school.\\u3000(Ｄ)\\u3000His dad often helps him do the English homework.Mom: How was school today?\\u2028\\u3000Jay: Not so good.\\u2028Mom: Why not?\\u2028\\u3000Jay: We had a science test today, but I didn’t do well.  I only got 39.\\u2028Mom: What?!  Didn’t you study for the test last night?\\u2028\\u3000Jay: Yes, I did.  I watched an old movie on TV first, and then I studied science for thirty minutes.\\u2028Mom: From today on, you CANNOT watch TV for over one hour a night.\\u2028\\u3000Jay: All right.  By the way, is Dad free tonight?  Maybe he can teach me science.\\u2028Mom: I can teach you, too.  I am a science teacher.\\u2028\\u3000Jay: But Dad always teaches in a fun way.  I can learn better with the help of Dad.（\\u3000）(１)\\u3000Why WASN’T Jay happy today?\\u3000(Ａ)\\u3000He didn’t do well on a science test.\\u3000(Ｂ)\\u3000He fought with his good friend at school.\\u3000(Ｃ)\\u3000His mother didn’t let him watch any TV.\\u3000(Ｄ)\\u3000He was not early for school again.（\\u3000）(２)\\u3000What did Jay do last night?\\u3000(Ａ)\\u3000He went to a movie.\\u3000(Ｂ)\\u3000He studied science for two hours.\\u3000(Ｃ)\\u3000He watched a music video on TV.\\u3000(Ｄ)\\u3000He studied for a test.（\\u3000）(３)\\u3000Why does Jay like his father to teach him science?\\u3000(Ａ)\\u3000Because his father is a famous science teacher.\\u3000(Ｂ)\\u3000Because he loves his father, but not his mother.\\u3000(Ｃ)\\u3000Because his father has lots of free time to teach him.\\u3000(Ｄ)\\u3000Because his father teaches science in a fun way.He said he had much work\\u2028So I went to the show alone\\u2028They turned down the lights\\u2028And turned the projector on\\u2028And just as the news of\\u2028The world started to begin\\u2028I saw my darling and my good friend walk in\\u2028Though I was sitting there, they didn’t see\\u2028And so they sat right down in front of me\\u2028When he kissed her lips\\u2028I almost died\\u2028And in the middle of the color cartoon\\u2028I started to cry\\u2028Oh sad movies always make me cry\\u2028Oh sad movies always make me cry\\u2028So I got up and walked back home\\u2028And Mama saw the tears\\u2028And said what’s wrong\\u2028So to keep from telling her a lie\\u2028I just said\\u2028Sad movies make me cryby Sue Thompson “Sad Movies”（\\u3000）(１)\\u3000What does the word darling mean？\\u3000(Ａ)\\u3000Father.\\u3000(Ｂ)\\u3000Boyfriend.\\u3000(Ｃ)\\u3000Uncle.\\u3000(Ｄ)\\u3000Cousin.（\\u3000）(２)\\u3000Which is NOT right?\\u3000(Ａ)\\u3000The girl went to the movies on her own（獨自）.\\u3000(Ｂ)\\u3000The girl cried because of the sad movie.\\u3000(Ｃ)\\u3000The girl’s mother asked（問）her what happened to her.\\u3000(Ｄ)\\u3000The girl did not tell her mother the truth（實話）.（\\u3000）(３)\\u3000What happened to the girl during the movie?\\u3000(Ａ)\\u3000She died in the middle of the movie.\\u3000(Ｂ)\\u3000She turned on her phone and talked to her mom.\\u3000(Ｃ)\\u3000She got some good sleep.\\u3000(Ｄ)\\u3000She saw her good friend come see the movie.Amy: What did you do on the Moon Festival?\\u2028\\u3000Jack: Not much.  I just ate moon cakes and watched TV at home.  My brothers all came back home, and we got together for a big dinner at a restaurant.  How about you?  Did you do anything special?\\u2028Amy: Yes, my parents and I visited my grandmother in Nantou.  We picked a lot of pomelos on the farm and made many pomelo hats.  Then we picnicked together and had a good time.\\u2028\\u3000Jack: How nice!  Did you also eat a lot of moon cakes?\\u2028Amy: Of course, but something happened to me.  Guess what?  I lost my tooth and it hurt a lot.\\u2028\\u3000Jack: Oh, poor you!（\\u3000）(１)\\u3000What DIDN’T Amy do in Nantou?\\u3000(Ａ)\\u3000Pick pomelos.\\u3000(Ｂ)\\u3000Have a picnic.\\u3000(Ｃ)\\u3000Eat a lot of moon cakes.\\u3000(Ｄ)\\u3000Go to her friend’s birthday party.（\\u3000）(２)\\u3000Who lost a tooth?\\u3000(Ａ)\\u3000Jack.\\u3000(Ｂ)\\u3000Jack’s brothers.\\u3000(Ｃ)\\u3000Amy.\\u3000(Ｄ)\\u3000Amy’s grandmother.（\\u3000）(３)\\u3000Which is right?\\u3000(Ａ)\\u3000Jack’s brothers all came back home on the Moon Festival.\\u3000(Ｂ)\\u3000Jack visited his grandmother in Nantou.\\u3000(Ｃ)\\u3000Amy joined a karaoke（卡拉\\u3000OK）contest（競賽）, and she sang a famous song.\\u3000(Ｄ)\\u3000Amy didn’t eat any moon cakes.\\u3000\\u3000Jason and his family went to Kaani Beach on the Moon Festival.  Here was the poster for the activities that night.（\\u3000）(１)\\u3000Jason got a free gift.  How old is Jason?\\u3000(Ａ)\\u30008 years old.\\u3000(Ｂ)\\u300012 years old.\\u3000(Ｃ)\\u300025 years old.\\u3000(Ｄ)\\u300040 years old.（\\u3000）(２)\\u3000How long did the activities for the Moon Festival last?\\u3000(Ａ)\\u30006 hours.\\u3000(Ｂ)\\u30005 hours.\\u3000(Ｃ)\\u30004 hours.\\u3000(Ｄ)\\u30003 hours.（\\u3000）(３)\\u3000Which is NOT right?\\u3000(Ａ)\\u3000The activities were in the evening.\\u3000(Ｂ)\\u3000The activities were at the beach.\\u3000(Ｃ)\\u3000People listened to music for one hour.\\u3000(Ｄ)\\u3000People listened to stories from 8 to 9 p.m.\\u3000\\u3000Here are four important festivals in Taiwan.（\\u3000）(１)\\u3000What do people usually eat on the Moon Festival?\\u3000(Ａ)\\u3000Moon cakes.\\u3000(Ｂ)\\u3000Spring rolls.\\u3000(Ｃ)\\u3000Rice dumplings.\\u3000(Ｄ)\\u3000Chicken rice.（\\u3000）(２)\\u3000Victor has a reunion dinner with his family on the Chinese New Year.  What does he usually get from his grandmother after dinner?\\u3000(Ａ)\\u3000A pomelo hat.\\u3000(Ｂ)\\u3000A red envelope.\\u3000(Ｃ)\\u3000A dragon boat.\\u3000(Ｄ)\\u3000A rice dumpling.（\\u3000）(３)\\u3000Which is right?\\u3000(Ａ)\\u3000People set up eggs on the Moon Festival.\\u3000(Ｂ)\\u3000People go to bed late to remember their ancestors on the Tomb Sweeping Day.\\u3000(Ｃ)\\u3000People always eat rice dumplings on the Dragon Boat Festival.\\u3000(Ｄ)\\u3000People get lucky money on the Moon Festival.\\u3000\\u3000There are 17 boys and 14 girls in Ms. Chen’s class.  The bar chart shows how they go to school.  Look at it and answer the questions.（\\u3000）(１)\\u3000How many different ways do the girls use to go to school?\\u3000(Ａ)\\u3000Two.\\u3000(Ｂ)\\u3000Three.\\u3000(Ｃ)\\u3000Four.\\u3000(Ｄ)\\u3000Five.（\\u3000）(２)\\u3000How many students go to school by bike?\\u3000(Ａ)\\u3000Five.\\u3000(Ｂ)\\u3000Six.\\u3000(Ｃ)\\u3000Seven.\\u3000(Ｄ)\\u3000Eight.（\\u3000）(３)\\u3000More girls go to school \\u3000\\u3000\\u3000 than（比）boys.\\u3000(Ａ)\\u3000on foot\\u3000(Ｂ)\\u3000by bike\\u3000(Ｃ)\\u3000by bus\\u3000(Ｄ)\\u3000by car\\u3000\\u3000Here are a map and a train schedule from Yoyo Town to Nono Town.（\\u3000）(１)\\u3000Patty lives in Blue Park.  She will（將）take the train（搭火車）to the beach and meet her friend at 3:00 p.m. this afternoon.  Which train does she need to take at the latest（最遲）?\\u3000(Ａ)\\u3000501.\\u3000(Ｂ)\\u3000502.\\u3000(Ｃ)\\u3000503.\\u3000(Ｄ)\\u3000504.（\\u3000）(２)\\u3000Class 806 of Han-lin High School went to the Art Museum yesterday.  Later, they took the train（搭火車）and got back to school at 4:05 p.m.  Which train did they take?\\u3000(Ａ)\\u3000501.\\u3000(Ｂ)\\u3000502.\\u3000(Ｃ)\\u3000503.\\u3000(Ｄ)\\u3000504.（\\u3000）(３)\\u3000Jason got on（坐上）the train at Yoyo Town.  How many train stations did he pass（通過）before he got to Nono Town?\\u3000(Ａ)\\u3000Two.\\u3000(Ｂ)\\u3000Three.\\u3000(Ｃ)\\u3000Four.\\u3000(Ｄ)\\u3000Five.Bob: What did you do last weekend?\\u2028Tim\\u3000: My dad drove my mom and me to my grandparents’ house.  They live in a small town in Hsinchu.\\u2028Bob: Hsinchu?  Is their house near the beach?\\u2028Tim\\u3000: No.  My grandpa is a farmer.  He grows rice, and my grandma grows some vegetables in the yard.  We can see the beautiful rice farm from the yard.\\u2028Bob: Cool!  Did you do anything fun there?\\u2028Tim\\u3000: I went bicycle riding along the country roads with my cousins.  The air was nice, and the view was so beautiful.  There were not many cars or motorcycles on the roads.  We also saw some special flowers and plants along the way.\\u2028Bob: Where did you eat lunch that day?\\u2028Tim\\u3000: At my grandparents’ house.  My grandma is 70, but she is still a very good cook.  She made a lot of yummy food for us.\\u2028Bob: How great your weekend was!（\\u3000）(１)\\u3000How did Tim and his parents visit Hsinchu last weekend?\\u3000(Ａ)\\u3000By（藉由）car.\\u3000(Ｂ)\\u3000By train.\\u3000(Ｃ)\\u3000By bus.\\u3000(Ｄ)\\u3000By plane.（\\u3000）(２)\\u3000What DIDN’T Tim do in Hsinchu?  He didn’t \\u3000\\u3000\\u3000.\\u3000(Ａ)\\u3000eat yummy food\\u3000(Ｂ)\\u3000ride a bike\\u3000(Ｃ)\\u3000grow rice\\u3000(Ｄ)\\u3000look at flowers（\\u3000）(３)\\u3000Which is right?\\u3000(Ａ)\\u3000Tim’s grandma is old, so she always rests at home.\\u3000(Ｂ)\\u3000Tim’s grandparents live near the sea.\\u3000(Ｃ)\\u3000Tim and his cousins rode their bikes along the country roads and had a great time together.\\u3000(Ｄ)\\u3000Tim’s grandpa grows rice and vegetables on his farm.\\u3000\\u3000Read Amy’s diary and answer the questions.（\\u3000）(１)\\u3000Did Jimmy come to Taiwan before?\\u3000(Ａ)\\u3000Yes, he did.\\u3000(Ｂ)\\u3000Yes, he’s living in Danshui now.\\u3000(Ｃ)\\u3000No, he didn’t.\\u3000(Ｄ)\\u3000No, but he came to Danshui the second time.（\\u3000）(２)\\u3000How did Amy go to Ba-li with her American friend?\\u3000(Ａ)\\u3000She drove her dad’s car there.\\u3000(Ｂ)\\u3000She took a ship（搭船）there.\\u3000(Ｃ)\\u3000She flew there.\\u3000(Ｄ)\\u3000By（藉由）boat.（\\u3000）(３)\\u3000What DIDN’T Amy and Jimmy do today?  They didn’t \\u3000\\u3000\\u3000.\\u3000(Ａ)\\u3000go biking along Danshui River\\u3000(Ｂ)\\u3000talk to each other in English\\u3000(Ｃ)\\u3000eat fast food\\u3000(Ｄ)\\u3000go fishing（釣魚）on the river bankDear Beth,\\u2028\\u3000\\u3000Long time no see!\\u2028\\u3000\\u3000I just came back to Taipei from Washington, D.C., the USA.  20 hours on the plane really made me tired.\\u2028\\u3000\\u3000I knew about Typhoon Melissa from the TV news.  On TV, I saw many houses in Kaohsiung were damaged.  Are you OK down there?\\u2028\\u3000\\u3000The weather in the mountains of America was very different from the weather in Taiwan.  It was just early October, but it started to snow here.\\u2028\\u3000\\u3000But my trip to America was great.  You know my English is poor, but here I talked to people without any problem, and I even made some new friends on the train!\\u2028\\u3000\\u3000Maybe I will go to New York next August.  Do you want to join me?Your friend,Lisa（\\u3000）(１)\\u3000Where does Beth live?\\u3000(Ａ)\\u3000In New York.\\u3000(Ｂ)\\u3000In Taipei.\\u3000(Ｃ)\\u3000In Washington, D.C.\\u3000(Ｄ)\\u3000In Kaohsiung.（\\u3000）(２)\\u3000How was the weather in the mountains of the USA when（當）Lisa was there?\\u3000(Ａ)\\u3000It was warm.\\u3000(Ｂ)\\u3000It was cold.\\u3000(Ｃ)\\u3000It was cool.\\u3000(Ｄ)\\u3000There was a strong typhoon.（\\u3000）(３)\\u3000Which is right about Lisa?\\u3000(Ａ)\\u3000She could not speak English to people in America.\\u3000(Ｂ)\\u3000She will not visit America again.\\u3000(Ｃ)\\u3000She wants Beth to travel to the USA with her next year.\\u3000(Ｄ)\\u3000Her English is very good.\\u3000\\u3000Jeff has a car, but he never drives to work.  He does not like driving to work because there is heavy traffic during rush hours.  Sometimes he was late for work because of the traffic jam.  Also, a parking space is not easy to find.  There are not enough parking spaces in his office building.  Now Jeff takes the metro to work.  He doesn’t need to worry about finding a parking space or being late for work again.  Besides, he can read or relax on the metro.（\\u3000）(１)\\u3000How does Jeff go to work now?\\u3000(Ａ)\\u3000By（藉由）bike.\\u3000(Ｂ)\\u3000By metro.\\u3000(Ｃ)\\u3000By car.\\u3000(Ｄ)\\u3000By taxi（計程車）.（\\u3000）(２)\\u3000Which is NOT right about Jeff?\\u3000(Ａ)\\u3000He was sometimes late for work before.\\u3000(Ｂ)\\u3000He works in an office building.\\u3000(Ｃ)\\u3000He doesn’t need to worry about where to park his car now.\\u3000(Ｄ)\\u3000He can enjoy his breakfast on the metro on his way to work now.Dear Diana,\\u2028\\u3000\\u3000Richard and I are going to Tainan next weekend.  We’re going bird watching.  Do you know about the black-faced spoonbills?  They have black faces, and their bills are just like spoons.  They catch fish with their bills.  When they take a rest, they often stand on one leg.  Isn’t that very interesting?\\u2028\\u3000\\u3000Black-faced spoonbills often come to Tainan for warm weather in winter.  Cute birds like them are not easy to see, you know.  We’re going to meet at Taipei Train Station at 7:30 a.m. next Saturday.  Do you want to join us?  Just call me.Your friend,\\u2028Emily（\\u3000）(１)\\u3000Is Diana going to Tainan with Richard and Emily next weekend?\\u3000(Ａ)\\u3000Yes, she is.\\u3000(Ｂ)\\u3000No, she isn’t.\\u3000(Ｃ)\\u3000Yes, she just said yes.\\u3000(Ｄ)\\u3000We are not sure if（是否）she is going with them.（\\u3000）(２)\\u3000Which is NOT right about black-faced spoonbills?\\u3000(Ａ)\\u3000They come to Tainan for warm weather.\\u3000(Ｂ)\\u3000Their faces are black, and their bills are like spoons.\\u3000(Ｃ)\\u3000They stand on one leg all the time.\\u3000(Ｄ)\\u3000They catch fish with their bills.（\\u3000）(３)\\u3000How are Emily and Richard going to Tainan?\\u3000(Ａ)\\u3000By（藉由）ship.\\u3000(Ｂ)\\u3000By bike.\\u3000(Ｃ)\\u3000By plane.\\u3000(Ｄ)\\u3000By train.Allen: What did you do last Sunday?\\u2028Jason: My dad drove my mom and me to my grandparents’ house.  They live in a small town in Nantou.  But my dad’s car broke down on a country road.\\u2028Allen: Too bad.  Then how did you get to your grandparents’ place?\\u2028Jason: Luckily, it’s not too far, so we walked to my grandparents’ place.\\u2028Allen: Cool!  What did you do there?\\u2028Jason: We visited a tea farm and made some tea cakes.  They were so yummy.  We also went bicycle riding along the country roads.  In the afternoon, we took the bus to Sun Moon Lake and jogged around the lake.\\u2028Allen: That was really nice.  Where did you have dinner that day?\\u2028Jason: At a night market.\\u2028Allen: What did you have there?\\u2028Jason: We had a lot of yummy food, like stinky tofu and pig blood cake.\\u2028Allen: What a great Sunday!\\u2028Jason: Well, you can travel to Nantou with me next time.  Let’s have a good time together.\\u2028Allen: That’s so nice of you!（\\u3000）(１)\\u3000How did Jason and his parents go to Nantou last Sunday?\\u3000(Ａ)\\u3000By（藉由）train.\\u3000(Ｂ)\\u3000By bus.\\u3000(Ｃ)\\u3000By car.\\u3000(Ｄ)\\u3000By bicycle.（\\u3000）(２)\\u3000What did Jason NOT do in Nantou last Sunday?\\u3000(Ａ)\\u3000He visited a tea farm.\\u3000(Ｂ)\\u3000He went fishing（釣魚）in Sun Moon Lake.\\u3000(Ｃ)\\u3000He went bicycle riding along the country roads.\\u3000(Ｄ)\\u3000He made some tea cakes.（\\u3000）(３)\\u3000Which is right?\\u3000(Ａ)\\u3000Jason didn’t like stinky tofu.\\u3000(Ｂ)\\u3000Jason had dinner at a night market.\\u3000(Ｃ)\\u3000Jason went to Nantou with Allen.\\u3000(Ｄ)\\u3000Jason swam in Sun Moon Lake.\\u3000Gary: Hi, Mark.  I have something to tell you.  My sister can’t drive us to Moon City on Saturday.  She needs to work in the hospital.\\u2028Mark: Then we’ll need to take the train.  Let me take a look at the train schedule.  How about the 9:00 train?\\u2028\\u3000Gary: That’s too early.  I never get up before 9:00 on Saturday morning.\\u2028Mark: Well, then, how about the one at eleven o’clock?\\u2028\\u3000Gary: That’s fine with me.  Let’s eat lunch somewhere near the Moon City Train Station and then go to the History Museum.\\u2028Mark: We don’t have that much time.  We need to be back before five for Emily’s birthday party.  Remember?\\u2028\\u3000Gary: Oh, I forgot about that.  Well, let’s take some rice balls with us.  We can eat our lunch on the train.\\u2028Mark: OK.（\\u3000）(１)\\u3000Why are Gary and Mark going to Moon City?\\u3000(Ａ)\\u3000To visit Gary’s sister.\\u3000(Ｂ)\\u3000To have lunch.\\u3000(Ｃ)\\u3000To go to a museum.\\u3000(Ｄ)\\u3000To go to Emily’s party.（\\u3000）(２)\\u3000Which train do Gary and Mark plan（打算）to take to get to Moon City?\\u3000(Ａ)\\u3000The five o’clock train.\\u3000(Ｂ)\\u3000The nine o’clock train.\\u3000(Ｃ)\\u3000The eleven o’clock train.\\u3000(Ｄ)\\u3000The twelve o’clock train.（\\u3000）(３)\\u3000Which is NOT true?\\u3000(Ａ)\\u3000Gary’s sister works in the hospital.\\u3000(Ｂ)\\u3000Gary never gets up before nine o’clock on the weekend.\\u3000(Ｃ)\\u3000Gary and Mark are going to Emily’s birthday party on Saturday evening.\\u3000(Ｄ)\\u3000Gary and Mark will（將）have rice balls at a 7-ELEVE in Moon City.'"
      ]
     },
     "execution_count": 337,
     "metadata": {},
     "output_type": "execute_result"
    }
   ],
   "source": [
    "\"　Roy is an American student.  He is now living with the Lin family in Taipei.  The Moon Festival is coming, and the Lin family are planning something special for that day.  Look at the schedule and answer the questions.\\\n",
    "（　）(１)　Today is the Moon Festival.  Where are the Lin family enjoying their lunch with Roy?　(Ａ)　At home.　(Ｂ)　At a famous restaurant.　(Ｃ)　At the park.　(Ｄ)　At Taipei 101.\\\n",
    "（　）(２)　Roy is now watching the moon through（透過）the binoculars（望遠鏡）.  Where is he, and what time may it be?　(Ａ)　At 9:00 a.m. at the park.　(Ｂ)　At 10:00 a.m. at the basketball court.　(Ｃ)　At 7:00 p.m. at a restaurant.　(Ｄ)　At 9:00 p.m. at Taipei 101.\\\n",
    "　　Billy was sad when he lost his heart, but he knew who took it.  The girl ran away with Billy’s heart, and he still waited for her to come back. ",
    "　　Years later, Billy met the girl on the road, but she was not like his loved girl.  He tried to talk to her, but she was not the girl of years ago. ",
    "　　Now Billy knows he can take his heart back and say goodbye to the girl.  It’s time for him to let her go.  It’s time for him to lose his heart to someone else again.\\\n",
    "（　）(１)　Which is said（提及）in the reading?　(Ａ)　A past（逝去的）love.　(Ｂ)　A heart attack（心臟病）.　(Ｃ)　How to love a girl.　(Ｄ)　How to say goodbye to a girl.\\\n",
    "（　）(２)　What does Billy want to do right now?　(Ａ)　To write love letters（信）to the girl.　(Ｂ)　To travel with the girl.　(Ｃ)　To run away with the girl.　(Ｄ)　To say goodbye to the girl and find（找到）a new love.\\\n",
    "　　On a hot day in summer, a rabbit went down to a river and drank some water.  The rabbit looked at himself in the water and liked his beautiful long ears, but he wasn’t satisfied with his short legs. ",
    "　　After the rabbit drank the water, a tiger jumped on him.  With his short legs, the rabbit ran very fast, and the tiger did not catch up with him. ",
    "　　The rabbit was happy because the tiger did not catch him.  Ten minutes later, the tiger showed up again.  When the rabbit saw the tiger, the tiger caught him by his long ears.  That was the end of the story.\\\n",
    "（　）(１)　Which is implied（暗示；隱喻）in the reading?　(Ａ)　Drinking water in the river is not a good idea（點子）.　(Ｂ)　Beautiful things（事物）may bring（帶來）trouble.　(Ｃ)　A tiger runs fast, but a rabbit doesn’t.　(Ｄ)　A rabbit has long ears and short legs.\\\n",
    "（　）(２)　Which is right about the rabbit in the story?　(Ａ)　The tiger ate the rabbit in his sleep.　(Ｂ)　The tiger caught the rabbit’s tail（尾巴）in the end.　(Ｃ)　The rabbit could run away the first time.　(Ｄ)　The rabbit could jump onto（到…上面）the tiger.\\\n",
    "Brad: Dad, who’s the little girl over there?  Why is she shaking her head like that on the street?  She looks so funny. ",
    "　Dad: Brad!  Don’t say anything like that again.  She is just sick. ",
    "Brad: Oops, I’m sorry.  I won’t do it again.  But who is she?  I never saw her before. ",
    "　Dad: Cathy just moved into the house next to our house.  Ms. Love took her home last month.  She takes care of kids in need of special help.  Cathy is one of them. ",
    "Brad: Can I help, too? ",
    "　Dad: Sure.  But we must know: people may look different, but we are all the same.  We all need love and care in difficult times. ",
    "Brad: I see, Dad.  Let’s visit Ms. Love and Cathy some other time. ",
    "　Dad: OK.  How about this weekend? ",
    "Brad: I can’t wait!\\\n",
    "（　）(１)　Who may be sick in the story?　(Ａ)　Brad.　(Ｂ)　Cathy.　(Ｃ)　Ms. Love.　(Ｄ)　Brad’s dad.\\\n",
    "（　）(２)　What WON’T Brad do again?　(Ａ)　He won’t get sick.　(Ｂ)　He won’t talk about other kids.　(Ｃ)　He won’t shake his head on the street.　(Ｄ)　He won’t be rude（粗魯的）in talking about other people.\\\n",
    "（　）(３)　What does Brad’s dad mean（意指）by saying, “we are all the same”?　(Ａ)　People need love and care from other people in difficult times.　(Ｂ)　People need to say and do the same thing（事物）.　(Ｃ)　People need to be happy every day.　(Ｄ)　People need to live in the same place every day.\\\n",
    "Ms. Love: Jason, why are you late again today? ",
    "　　Jason: My cute dog was very sick this morning, so I took him to a vet. ",
    "Ms. Love: OK.  Then, where’s your English homework? ",
    "　　Jason: I didn’t finish it. ",
    "Ms. Love: Why not? ",
    "　　Jason: Because my dad went to a wedding, he got home very late.  He didn’t help me do it. ",
    "Ms. Love: What?!  Call your mom and ask her to come to school NOW.\\\n",
    "（　）(１)　Why DIDN’T Jason do his English homework last night?　(Ａ)　He was sick.　(Ｂ)　He went to bed early.　(Ｃ)　His father was busy, and he didn’t have time to help Jason with it.　(Ｄ)　His brother took it.\\\n",
    "（　）(２)　Which is right about Jason?　(Ａ)　He has a cute cat.　(Ｂ)　He never takes his pet（寵物）to a vet because it’s too much money.　(Ｃ)　His teacher, Ms. Love, wants to talk to his father at school.　(Ｄ)　His dad often helps him do the English homework.\\\n",
    "Mom: How was school today? ",
    "　Jay: Not so good. ",
    "Mom: Why not? ",
    "　Jay: We had a science test today, but I didn’t do well.  I only got 39. ",
    "Mom: What?!  Didn’t you study for the test last night? ",
    "　Jay: Yes, I did.  I watched an old movie on TV first, and then I studied science for thirty minutes. ",
    "Mom: From today on, you CANNOT watch TV for over one hour a night. ",
    "　Jay: All right.  By the way, is Dad free tonight?  Maybe he can teach me science. ",
    "Mom: I can teach you, too.  I am a science teacher. ",
    "　Jay: But Dad always teaches in a fun way.  I can learn better with the help of Dad.\\\n",
    "（　）(１)　Why WASN’T Jay happy today?　(Ａ)　He didn’t do well on a science test.　(Ｂ)　He fought with his good friend at school.　(Ｃ)　His mother didn’t let him watch any TV.　(Ｄ)　He was not early for school again.\\\n",
    "（　）(２)　What did Jay do last night?　(Ａ)　He went to a movie.　(Ｂ)　He studied science for two hours.　(Ｃ)　He watched a music video on TV.　(Ｄ)　He studied for a test.\\\n",
    "（　）(３)　Why does Jay like his father to teach him science?　(Ａ)　Because his father is a famous science teacher.　(Ｂ)　Because he loves his father, but not his mother.　(Ｃ)　Because his father has lots of free time to teach him.　(Ｄ)　Because his father teaches science in a fun way.\\\n",
    "He said he had much work ",
    "So I went to the show alone ",
    "They turned down the lights ",
    "And turned the projector on ",
    "And just as the news of ",
    "The world started to begin ",
    "I saw my darling and my good friend walk in ",
    "Though I was sitting there, they didn’t see ",
    "And so they sat right down in front of me ",
    "When he kissed her lips ",
    "I almost died ",
    "And in the middle of the color cartoon ",
    "I started to cry ",
    "Oh sad movies always make me cry ",
    "Oh sad movies always make me cry ",
    "So I got up and walked back home ",
    "And Mama saw the tears ",
    "And said what’s wrong ",
    "So to keep from telling her a lie ",
    "I just said ",
    "Sad movies make me cry\\\n",
    "by Sue Thompson “Sad Movies”\\\n",
    "（　）(１)　What does the word darling mean？　(Ａ)　Father.　(Ｂ)　Boyfriend.　(Ｃ)　Uncle.　(Ｄ)　Cousin.\\\n",
    "（　）(２)　Which is NOT right?　(Ａ)　The girl went to the movies on her own（獨自）.　(Ｂ)　The girl cried because of the sad movie.　(Ｃ)　The girl’s mother asked（問）her what happened to her.　(Ｄ)　The girl did not tell her mother the truth（實話）.\\\n",
    "（　）(３)　What happened to the girl during the movie?　(Ａ)　She died in the middle of the movie.　(Ｂ)　She turned on her phone and talked to her mom.　(Ｃ)　She got some good sleep.　(Ｄ)　She saw her good friend come see the movie.\\\n",
    "Amy: What did you do on the Moon Festival? ",
    "　Jack: Not much.  I just ate moon cakes and watched TV at home.  My brothers all came back home, and we got together for a big dinner at a restaurant.  How about you?  Did you do anything special? ",
    "Amy: Yes, my parents and I visited my grandmother in Nantou.  We picked a lot of pomelos on the farm and made many pomelo hats.  Then we picnicked together and had a good time. ",
    "　Jack: How nice!  Did you also eat a lot of moon cakes? ",
    "Amy: Of course, but something happened to me.  Guess what?  I lost my tooth and it hurt a lot. ",
    "　Jack: Oh, poor you!\\\n",
    "（　）(１)　What DIDN’T Amy do in Nantou?　(Ａ)　Pick pomelos.　(Ｂ)　Have a picnic.　(Ｃ)　Eat a lot of moon cakes.　(Ｄ)　Go to her friend’s birthday party.\\\n",
    "（　）(２)　Who lost a tooth?　(Ａ)　Jack.　(Ｂ)　Jack’s brothers.　(Ｃ)　Amy.　(Ｄ)　Amy’s grandmother.\\\n",
    "（　）(３)　Which is right?　(Ａ)　Jack’s brothers all came back home on the Moon Festival.　(Ｂ)　Jack visited his grandmother in Nantou.　(Ｃ)　Amy joined a karaoke（卡拉　OK）contest（競賽）, and she sang a famous song.　(Ｄ)　Amy didn’t eat any moon cakes.\\\n",
    "　　Jason and his family went to Kaani Beach on the Moon Festival.  Here was the poster for the activities that night.\\\n",
    "（　）(１)　Jason got a free gift.  How old is Jason?　(Ａ)　8 years old.　(Ｂ)　12 years old.　(Ｃ)　25 years old.　(Ｄ)　40 years old.\\\n",
    "（　）(２)　How long did the activities for the Moon Festival last?　(Ａ)　6 hours.　(Ｂ)　5 hours.　(Ｃ)　4 hours.　(Ｄ)　3 hours.\\\n",
    "（　）(３)　Which is NOT right?　(Ａ)　The activities were in the evening.　(Ｂ)　The activities were at the beach.　(Ｃ)　People listened to music for one hour.　(Ｄ)　People listened to stories from 8 to 9 p.m.\\\n",
    "　　Here are four important festivals in Taiwan.\\\n",
    "（　）(１)　What do people usually eat on the Moon Festival?　(Ａ)　Moon cakes.　(Ｂ)　Spring rolls.　(Ｃ)　Rice dumplings.　(Ｄ)　Chicken rice.\\\n",
    "（　）(２)　Victor has a reunion dinner with his family on the Chinese New Year.  What does he usually get from his grandmother after dinner?　(Ａ)　A pomelo hat.　(Ｂ)　A red envelope.　(Ｃ)　A dragon boat.　(Ｄ)　A rice dumpling.\\\n",
    "（　）(３)　Which is right?　(Ａ)　People set up eggs on the Moon Festival.　(Ｂ)　People go to bed late to remember their ancestors on the Tomb Sweeping Day.　(Ｃ)　People always eat rice dumplings on the Dragon Boat Festival.　(Ｄ)　People get lucky money on the Moon Festival.\\\n",
    "　　There are 17 boys and 14 girls in Ms. Chen’s class.  The bar chart shows how they go to school.  Look at it and answer the questions.\\\n",
    "（　）(１)　How many different ways do the girls use to go to school?　(Ａ)　Two.　(Ｂ)　Three.　(Ｃ)　Four.　(Ｄ)　Five.\\\n",
    "（　）(２)　How many students go to school by bike?　(Ａ)　Five.　(Ｂ)　Six.　(Ｃ)　Seven.　(Ｄ)　Eight.\\\n",
    "（　）(３)　More girls go to school 　　　 than（比）boys.　(Ａ)　on foot　(Ｂ)　by bike　(Ｃ)　by bus　(Ｄ)　by car\\\n",
    "　　Here are a map and a train schedule from Yoyo Town to Nono Town.\\\n",
    "（　）(１)　Patty lives in Blue Park.  She will（將）take the train（搭火車）to the beach and meet her friend at 3:00 p.m. this afternoon.  Which train does she need to take at the latest（最遲）?　(Ａ)　501.　(Ｂ)　502.　(Ｃ)　503.　(Ｄ)　504.\\\n",
    "（　）(２)　Class 806 of Han-lin High School went to the Art Museum yesterday.  Later, they took the train（搭火車）and got back to school at 4:05 p.m.  Which train did they take?　(Ａ)　501.　(Ｂ)　502.　(Ｃ)　503.　(Ｄ)　504.\\\n",
    "（　）(３)　Jason got on（坐上）the train at Yoyo Town.  How many train stations did he pass（通過）before he got to Nono Town?　(Ａ)　Two.　(Ｂ)　Three.　(Ｃ)　Four.　(Ｄ)　Five.\\\n",
    "Bob: What did you do last weekend? ",
    "Tim　: My dad drove my mom and me to my grandparents’ house.  They live in a small town in Hsinchu. ",
    "Bob: Hsinchu?  Is their house near the beach? ",
    "Tim　: No.  My grandpa is a farmer.  He grows rice, and my grandma grows some vegetables in the yard.  We can see the beautiful rice farm from the yard. ",
    "Bob: Cool!  Did you do anything fun there? ",
    "Tim　: I went bicycle riding along the country roads with my cousins.  The air was nice, and the view was so beautiful.  There were not many cars or motorcycles on the roads.  We also saw some special flowers and plants along the way. ",
    "Bob: Where did you eat lunch that day? ",
    "Tim　: At my grandparents’ house.  My grandma is 70, but she is still a very good cook.  She made a lot of yummy food for us. ",
    "Bob: How great your weekend was!\\\n",
    "（　）(１)　How did Tim and his parents visit Hsinchu last weekend?　(Ａ)　By（藉由）car.　(Ｂ)　By train.　(Ｃ)　By bus.　(Ｄ)　By plane.\\\n",
    "（　）(２)　What DIDN’T Tim do in Hsinchu?  He didn’t 　　　.　(Ａ)　eat yummy food　(Ｂ)　ride a bike　(Ｃ)　grow rice　(Ｄ)　look at flowers\\\n",
    "（　）(３)　Which is right?　(Ａ)　Tim’s grandma is old, so she always rests at home.　(Ｂ)　Tim’s grandparents live near the sea.　(Ｃ)　Tim and his cousins rode their bikes along the country roads and had a great time together.　(Ｄ)　Tim’s grandpa grows rice and vegetables on his farm.\\\n",
    "　　Read Amy’s diary and answer the questions.\\\n",
    "（　）(１)　Did Jimmy come to Taiwan before?　(Ａ)　Yes, he did.　(Ｂ)　Yes, he’s living in Danshui now.　(Ｃ)　No, he didn’t.　(Ｄ)　No, but he came to Danshui the second time.\\\n",
    "（　）(２)　How did Amy go to Ba-li with her American friend?　(Ａ)　She drove her dad’s car there.　(Ｂ)　She took a ship（搭船）there.　(Ｃ)　She flew there.　(Ｄ)　By（藉由）boat.\\\n",
    "（　）(３)　What DIDN’T Amy and Jimmy do today?  They didn’t 　　　.　(Ａ)　go biking along Danshui River　(Ｂ)　talk to each other in English　(Ｃ)　eat fast food　(Ｄ)　go fishing（釣魚）on the river bank\\\n",
    "Dear Beth, ",
    "　　Long time no see! ",
    "　　I just came back to Taipei from Washington, D.C., the USA.  20 hours on the plane really made me tired. ",
    "　　I knew about Typhoon Melissa from the TV news.  On TV, I saw many houses in Kaohsiung were damaged.  Are you OK down there? ",
    "　　The weather in the mountains of America was very different from the weather in Taiwan.  It was just early October, but it started to snow here. ",
    "　　But my trip to America was great.  You know my English is poor, but here I talked to people without any problem, and I even made some new friends on the train! ",
    "　　Maybe I will go to New York next August.  Do you want to join me?\\\n",
    "Your friend,\\\n",
    "Lisa\\\n",
    "（　）(１)　Where does Beth live?　(Ａ)　In New York.　(Ｂ)　In Taipei.　(Ｃ)　In Washington, D.C.　(Ｄ)　In Kaohsiung.\\\n",
    "（　）(２)　How was the weather in the mountains of the USA when（當）Lisa was there?　(Ａ)　It was warm.　(Ｂ)　It was cold.　(Ｃ)　It was cool.　(Ｄ)　There was a strong typhoon.\\\n",
    "（　）(３)　Which is right about Lisa?　(Ａ)　She could not speak English to people in America.　(Ｂ)　She will not visit America again.　(Ｃ)　She wants Beth to travel to the USA with her next year.　(Ｄ)　Her English is very good.\\\n",
    "　　Jeff has a car, but he never drives to work.  He does not like driving to work because there is heavy traffic during rush hours.  Sometimes he was late for work because of the traffic jam.  Also, a parking space is not easy to find.  There are not enough parking spaces in his office building.  Now Jeff takes the metro to work.  He doesn’t need to worry about finding a parking space or being late for work again.  Besides, he can read or relax on the metro.\\\n",
    "（　）(１)　How does Jeff go to work now?　(Ａ)　By（藉由）bike.　(Ｂ)　By metro.　(Ｃ)　By car.　(Ｄ)　By taxi（計程車）.\\\n",
    "（　）(２)　Which is NOT right about Jeff?　(Ａ)　He was sometimes late for work before.　(Ｂ)　He works in an office building.　(Ｃ)　He doesn’t need to worry about where to park his car now.　(Ｄ)　He can enjoy his breakfast on the metro on his way to work now.\\\n",
    "Dear Diana, ",
    "　　Richard and I are going to Tainan next weekend.  We’re going bird watching.  Do you know about the black-faced spoonbills?  They have black faces, and their bills are just like spoons.  They catch fish with their bills.  When they take a rest, they often stand on one leg.  Isn’t that very interesting? ",
    "　　Black-faced spoonbills often come to Tainan for warm weather in winter.  Cute birds like them are not easy to see, you know.  We’re going to meet at Taipei Train Station at 7:30 a.m. next Saturday.  Do you want to join us?  Just call me.\\\n",
    "Your friend, ",
    "Emily\\\n",
    "（　）(１)　Is Diana going to Tainan with Richard and Emily next weekend?　(Ａ)　Yes, she is.　(Ｂ)　No, she isn’t.　(Ｃ)　Yes, she just said yes.　(Ｄ)　We are not sure if（是否）she is going with them.\\\n",
    "（　）(２)　Which is NOT right about black-faced spoonbills?　(Ａ)　They come to Tainan for warm weather.　(Ｂ)　Their faces are black, and their bills are like spoons.　(Ｃ)　They stand on one leg all the time.　(Ｄ)　They catch fish with their bills.\\\n",
    "（　）(３)　How are Emily and Richard going to Tainan?　(Ａ)　By（藉由）ship.　(Ｂ)　By bike.　(Ｃ)　By plane.　(Ｄ)　By train.\\\n",
    "Allen: What did you do last Sunday? ",
    "Jason: My dad drove my mom and me to my grandparents’ house.  They live in a small town in Nantou.  But my dad’s car broke down on a country road. ",
    "Allen: Too bad.  Then how did you get to your grandparents’ place? ",
    "Jason: Luckily, it’s not too far, so we walked to my grandparents’ place. ",
    "Allen: Cool!  What did you do there? ",
    "Jason: We visited a tea farm and made some tea cakes.  They were so yummy.  We also went bicycle riding along the country roads.  In the afternoon, we took the bus to Sun Moon Lake and jogged around the lake. ",
    "Allen: That was really nice.  Where did you have dinner that day? ",
    "Jason: At a night market. ",
    "Allen: What did you have there? ",
    "Jason: We had a lot of yummy food, like stinky tofu and pig blood cake. ",
    "Allen: What a great Sunday! ",
    "Jason: Well, you can travel to Nantou with me next time.  Let’s have a good time together. ",
    "Allen: That’s so nice of you!\\\n",
    "（　）(１)　How did Jason and his parents go to Nantou last Sunday?　(Ａ)　By（藉由）train.　(Ｂ)　By bus.　(Ｃ)　By car.　(Ｄ)　By bicycle.\\\n",
    "（　）(２)　What did Jason NOT do in Nantou last Sunday?　(Ａ)　He visited a tea farm.　(Ｂ)　He went fishing（釣魚）in Sun Moon Lake.　(Ｃ)　He went bicycle riding along the country roads.　(Ｄ)　He made some tea cakes.\\\n",
    "（　）(３)　Which is right?　(Ａ)　Jason didn’t like stinky tofu.　(Ｂ)　Jason had dinner at a night market.　(Ｃ)　Jason went to Nantou with Allen.　(Ｄ)　Jason swam in Sun Moon Lake.\\\n",
    "　Gary: Hi, Mark.  I have something to tell you.  My sister can’t drive us to Moon City on Saturday.  She needs to work in the hospital. ",
    "Mark: Then we’ll need to take the train.  Let me take a look at the train schedule.  How about the 9:00 train? ",
    "　Gary: That’s too early.  I never get up before 9:00 on Saturday morning. ",
    "Mark: Well, then, how about the one at eleven o’clock? ",
    "　Gary: That’s fine with me.  Let’s eat lunch somewhere near the Moon City Train Station and then go to the History Museum. ",
    "Mark: We don’t have that much time.  We need to be back before five for Emily’s birthday party.  Remember? ",
    "　Gary: Oh, I forgot about that.  Well, let’s take some rice balls with us.  We can eat our lunch on the train. ",
    "Mark: OK.\\\n",
    "（　）(１)　Why are Gary and Mark going to Moon City?　(Ａ)　To visit Gary’s sister.　(Ｂ)　To have lunch.　(Ｃ)　To go to a museum.　(Ｄ)　To go to Emily’s party.\\\n",
    "（　）(２)　Which train do Gary and Mark plan（打算）to take to get to Moon City?　(Ａ)　The five o’clock train.　(Ｂ)　The nine o’clock train.　(Ｃ)　The eleven o’clock train.　(Ｄ)　The twelve o’clock train.\\\n",
    "（　）(３)　Which is NOT true?　(Ａ)　Gary’s sister works in the hospital.　(Ｂ)　Gary never gets up before nine o’clock on the weekend.　(Ｃ)　Gary and Mark are going to Emily’s birthday party on Saturday evening.　(Ｄ)　Gary and Mark will（將）have rice balls at a 7-ELEVE in Moon City.\\\n",
    "\".strip()\n"
   ]
  },
  {
   "cell_type": "code",
   "execution_count": 17,
   "id": "e4186fb8-ea59-469e-8a74-a3194960ca8a",
   "metadata": {},
   "outputs": [
    {
     "name": "stderr",
     "output_type": "stream",
     "text": [
      "<ipython-input-17-8e9331cc0a06>:7: DeprecationWarning: The 'timeout' parameter is deprecated in favor of 'request_timeout'\n",
      "  es = Elasticsearch(\n"
     ]
    },
    {
     "data": {
      "text/plain": [
       "ObjectApiResponse({'name': 'c22af9a105a3', 'cluster_name': 'docker-cluster', 'cluster_uuid': 'clCI8vQKS8G-vbe-jzxGdw', 'version': {'number': '8.5.2', 'build_flavor': 'default', 'build_type': 'docker', 'build_hash': 'a846182fa16b4ebfcc89aa3c11a11fd5adf3de04', 'build_date': '2022-11-17T18:56:17.538630285Z', 'build_snapshot': False, 'lucene_version': '9.4.1', 'minimum_wire_compatibility_version': '7.17.0', 'minimum_index_compatibility_version': '7.0.0'}, 'tagline': 'You Know, for Search'})"
      ]
     },
     "execution_count": 17,
     "metadata": {},
     "output_type": "execute_result"
    }
   ],
   "source": [
    "from elasticsearch import Elasticsearch\n",
    "\n",
    "# Password for the 'elastic' user generated by Elasticsearch\n",
    "ELASTIC_PASSWORD = \"qz666\"\n",
    "\n",
    "# Create the client instance\n",
    "es = Elasticsearch(\n",
    "    \"http://localhost:9200\",\n",
    "    basic_auth=(\"elastic\", ELASTIC_PASSWORD),\n",
    "    verify_certs=False,\n",
    "    ssl_show_warn=False,\n",
    "    timeout=30,\n",
    "    max_retries=10,\n",
    "    retry_on_timeout=True\n",
    ")\n",
    "\n",
    "# Successful response!\n",
    "es.info()"
   ]
  },
  {
   "cell_type": "code",
   "execution_count": 21,
   "id": "8432e2c3-e4f8-4103-aaaf-4a16d3395a36",
   "metadata": {
    "scrolled": true,
    "tags": []
   },
   "outputs": [
    {
     "name": "stderr",
     "output_type": "stream",
     "text": [
      "<ipython-input-21-1db60724c4fb>:23: DeprecationWarning: The 'body' parameter is deprecated and will be removed in a future version. Instead use individual parameters.\n",
      "  es.indices.create(index=index, body=body)\n"
     ]
    }
   ],
   "source": [
    "import json\n",
    "\n",
    "indices = ['english', 'english1', 'english2']\n",
    "\n",
    "body = {\n",
    "    \"settings\": {\n",
    "        \"number_of_shards\": 3,\n",
    "        \"number_of_replicas\": 2\n",
    "    },\n",
    "    \"mappings\": {\n",
    "        \"properties\": {\n",
    "            \"index\": {\n",
    "                \"type\": \"keyword\"\n",
    "            },\n",
    "            \"content\": {\n",
    "                \"type\": \"text\"\n",
    "        }\n",
    "    }\n",
    "    }\n",
    "}\n",
    "\n",
    "for index in indices:\n",
    "    es.indices.create(index=index, body=body)"
   ]
  },
  {
   "cell_type": "code",
   "execution_count": 7,
   "id": "c8c08961-c992-4d57-b63a-19003296ad9b",
   "metadata": {
    "tags": []
   },
   "outputs": [
    {
     "name": "stderr",
     "output_type": "stream",
     "text": [
      "<ipython-input-7-3bb87e8ff3f9>:18: DeprecationWarning: The 'body' parameter is deprecated and will be removed in a future version. Instead use individual parameters.\n",
      "  result = es.search(index='english', body=query)\n"
     ]
    },
    {
     "data": {
      "text/plain": [
       "(309, [])"
      ]
     },
     "execution_count": 7,
     "metadata": {},
     "output_type": "execute_result"
    }
   ],
   "source": [
    "from elasticsearch import Elasticsearch\n",
    "from elasticsearch import helpers\n",
    "import json\n",
    "import re\n",
    "\n",
    "def check(_id):\n",
    "    query = {\n",
    "        \"query\": {\n",
    "            \"bool\": {\n",
    "                \"must\": {\n",
    "                    \"term\": {\n",
    "                        \"index\": _id\n",
    "                    }\n",
    "                }\n",
    "            }\n",
    "        }\n",
    "    }\n",
    "    result = es.search(index='english', body=query)\n",
    "    return result['hits']['total']['value'] \n",
    "    \n",
    "with open('corpus.json', 'r', encoding=\"utf-8\")as f:\n",
    "    data = f.read()\n",
    "    corpus = eval(data)\n",
    "    f.close()\n",
    "\n",
    "def load_datas():\n",
    "    actions = list()\n",
    "    for idx in corpus.keys():\n",
    "        flag = 0 # cloze\n",
    "        for i, parag in enumerate(corpus[idx]):\n",
    "            parag = parag.replace(\"'s\", \" is\").replace(\"'re\", \" are\").replace(\"'t\", \" not\")\n",
    "            parag = re.sub(r'[\\u0080-\\uffef]', '', parag)\n",
    "            parag = re.sub(r'[^a-zA-Z]', ' ', parag)\n",
    "            if len(parag) == 0:\n",
    "                flag = 1 # reading\n",
    "                n_cloze = i\n",
    "                continue\n",
    "            if flag == 0: # cloze\n",
    "                index = 'h-' + idx + '-c-' + str(i)\n",
    "            else: # reading\n",
    "                index = 'h-' + idx + '-r-' + str(i-n_cloze)\n",
    "            if check(index) > 0:\n",
    "                continue\n",
    "            actions.append({\n",
    "                \"_index\": \"english\",\n",
    "                \"_op_type\": \"index\",\n",
    "                \"_source\": {\n",
    "                    \"index\": index,\n",
    "                    \"content\": parag\n",
    "                }\n",
    "            })\n",
    "    return actions\n",
    "\n",
    "\n",
    "data = load_datas()\n",
    "helpers.bulk(es, data)"
   ]
  },
  {
   "cell_type": "code",
   "execution_count": 14,
   "id": "ca5f1537-5ad1-4c24-9634-4991d3b55035",
   "metadata": {},
   "outputs": [
    {
     "data": {
      "text/plain": [
       "['zebras',\n",
       " 'pe',\n",
       " 'pets',\n",
       " 'castles',\n",
       " 'animals',\n",
       " 'soft',\n",
       " 'near',\n",
       " 'wives',\n",
       " 'place',\n",
       " 'rabbit']"
      ]
     },
     "execution_count": 14,
     "metadata": {},
     "output_type": "execute_result"
    }
   ],
   "source": [
    "import string\n",
    "\n",
    "def read_kw(path):\n",
    "    with open(path, 'r', encoding=\"utf-8\")as f:\n",
    "        lines = f.readlines()\n",
    "        f.close()\n",
    "    kws = []\n",
    "    for line in lines:\n",
    "        if len(line) > 0 and (line[0] in string.ascii_uppercase\\\n",
    "                              or line[0] in string.ascii_lowercase):\n",
    "            kws.append(line.replace('\\n', ''))\n",
    "    return kws\n",
    "\n",
    "kws = read_kw('正在學的單字\\康1-1~1-3.txt')\n",
    "kws[:10]"
   ]
  },
  {
   "cell_type": "code",
   "execution_count": 15,
   "id": "18af0d8b-fd1e-47e7-a0db-a1147256c956",
   "metadata": {},
   "outputs": [
    {
     "name": "stdout",
     "output_type": "stream",
     "text": [
      "11\n"
     ]
    },
    {
     "name": "stderr",
     "output_type": "stream",
     "text": [
      "<ipython-input-15-05d32171f8d4>:22: DeprecationWarning: The 'body' parameter is deprecated and will be removed in a future version. Instead use individual parameters.\n",
      "  result = es.search(index='english', body=get_query('in front of', 'q2'), size=100) # size is maximun number of hits\n"
     ]
    }
   ],
   "source": [
    "def get_query(content, q='q1'):\n",
    "    if q == 'q1':\n",
    "        query = {\"query\": \n",
    "                 {\"bool\": \n",
    "                  {\"must\":\n",
    "                   {\"term\": \n",
    "                    {\"content\": content\n",
    "                        }\n",
    "                    }\n",
    "                }\n",
    "            }\n",
    "        }\n",
    "    elif q == 'q2':\n",
    "        query = {\"query\": \n",
    "                 {\"match_phrase\":\n",
    "                  {\"content\": content\n",
    "            }\n",
    "          }\n",
    "        }\n",
    "    return query\n",
    "\n",
    "result = es.search(index='english', body=get_query('in front of', 'q2'), size=100) # size is maximun number of hits\n",
    "count = len(result['hits']['hits'])\n",
    "print(count)"
   ]
  },
  {
   "cell_type": "code",
   "execution_count": 16,
   "id": "339f8576-3215-4a66-9788-af63fcf3e19c",
   "metadata": {},
   "outputs": [
    {
     "data": {
      "text/plain": [
       "[{'_index': 'english',\n",
       "  '_id': 'haVJ_4QBEEX4d7Qusfj3',\n",
       "  '_score': 5.745345,\n",
       "  '_source': {'index': 'h-1-3-c-7',\n",
       "   'content': 'Hi   Im Alan   The boy in front of  is Tom  and the girl next to  is Judy   They are nice  me  and I am happy to be  friends   We are good classmates     him  her  me  you    him  her  me  you    with  to  for  in    your  my  their  our'}},\n",
       " {'_index': 'english',\n",
       "  '_id': 'raVJ_4QBEEX4d7Qusfj4',\n",
       "  '_score': 5.5716915,\n",
       "  '_source': {'index': 'h-1-4-r-10',\n",
       "   'content': 'This is Miyas cellphone  What is Miya doing   Talking with her mom   Cleaningher room   Listening to music   Singing songs   According tothe passage whichis true   The concert is at      this Saturday evening   Amy and Miya can go to the concert together   Miya has One Directions pictures     Amy and Miya take a picture in front of the park '}},\n",
       " {'_index': 'english',\n",
       "  '_id': 'SKVJ_4QBEEX4d7Qusfn8',\n",
       "  '_score': 5.4997177,\n",
       "  '_source': {'index': 'h-2-5-r-3',\n",
       "   'content': 'Steve  Look   There is a lake in front of the park Jean  Yes   It is really beautiful Steve  Really Jean  Yes Steve  What do you do on weekends now Jean  I often go hiking on Saturdays with my boyfriend   How about you Steve  My co workers and I always play baseball or tennis every Sunday Jean  It sounds great Steve  Look at this picture   This is our baseball team Jean  How come you look darker than the others Steve  I sometimes play volleyball on the beach on Saturdays Jean  No wonder you are so strong   What does Steve do on weekends   He goes hiking   He plays tennis   He watches TV   He plays computer games   Which is right   Jean doesnt hike now   Steve likes playing basketball   Steve is strong  and his skinis dark    Jean is Steves girlfriend   Where is the park   Its behind the lake   Its in the mountains   Its in front of the lake   Its by the beach '}},\n",
       " {'_index': 'english',\n",
       "  '_id': 'aKVJ_4QBEEX4d7Qusfj3',\n",
       "  '_score': 5.239797,\n",
       "  '_source': {'index': 'h-1-2-c-0',\n",
       "   'content': 'Sherry  Hey  Tina   What is that on the sofa Tina      a new pencil box     me Sherry  Its shape is     nice Tina  Thank you   Its a birthday present from my mom Sherry  Your mom is so nice Tina  Thanks again   By the way  this     pink pencil is for you Sherry  Oh  you are very nice  too   Thank you     Is it  Its  Theyre  Its    to  for  next to  in front of    too  not  fine  really    a  the  my  '}},\n",
       " {'_index': 'english',\n",
       "  '_id': 'VKVJ_4QBEEX4d7Qusfn8',\n",
       "  '_score': 5.079444,\n",
       "  '_source': {'index': 'h-2-5-r-15',\n",
       "   'content': 'Dear Vivian I think Im in big trouble   Last Sunday evening  my boyfriend and I waited for Betty and Jeremy in front of the Great World Theater   Suddenly  my parents walked by   They saw us holding hands  but they just walked away and didnt say a word to me Now they are still very unhappy   They want me to break up with my boyfriend   I tried to talk with them  but they didnt listen to me   I dont want to say goodbye to my boyfriend   He is very nice to me   What can I do   Do I need to listen to my parents and focus on my schoolwork Julie  What is Julies big trouble   She cant go to a movie on Sunday   Her boyfriend wants to break up with her   Her parents dont want her to have a boyfriend now   She can only go out with her parents   Which is right about Julie   She and her boyfriend kissedeach other in front of the theater last Sunday   She needs to listen to Vivian   She is a student and needs to study harder   She wants to finda new boyfriend '}},\n",
       " {'_index': 'english',\n",
       "  '_id': 'bKVJ_4QBEEX4d7Qusfj3',\n",
       "  '_score': 5.060882,\n",
       "  '_source': {'index': 'h-1-2-c-4',\n",
       "   'content': 'Ben  Oh  no   My English workbook is not in my book bag       is it Lily  It is on your bed Ben  Thank you   How about my pencils   Are they on the desk Lily  No  they are on the chair Ben  Where     my shoes Lily  Under the chair Ben  And my lunchbox Lily  Isnt it     your book bag Ben  Yes  it is   Thank you very much Lily         What  How  Where  Who    is  are  am      in  front of  next  about    Not really   Really   I see   Youre welcome '}},\n",
       " {'_index': 'english',\n",
       "  '_id': 'cKVJ_4QBEEX4d7Qusfj3',\n",
       "  '_score': 4.903038,\n",
       "  '_source': {'index': 'h-1-2-c-8',\n",
       "   'content': 'Look at the living room   The clock and the picture are  the wall   The TV is     the sofa   There is a basketball     the sofa   Its my brothers basketball   He plays basketball after school   The table is     the sofa   Our pet cat  Mini  is sleeping     the sofa and the table   She is very quiet and shy  but we all like her     inside  above  on  near    behind  in front of  next to  between    at  on  in  under    near  under  behind  in front    between  behind  next to  under'}},\n",
       " {'_index': 'english',\n",
       "  '_id': 'PaVJ_4QBEEX4d7Qusfn8',\n",
       "  '_score': 4.221043,\n",
       "  '_source': {'index': 'h-2-5-c-2',\n",
       "   'content': ' At Lilys home Sue  You werent at home last weekend   Where were you Lily  I     at my grandfathers new house in the mountains Sue  Is there anything special there Lily  Yes  there is a pond in front of the house   There     many tadpoles in the pond then Sue  Tadpoles   Were they babies of the Taipei tree frogs Lily  Thats right   Look at the picture   The Taipei tree frogs are so small and cute Sue  Can they     trees Lily  Yes  they can   Theyre protected animals  and people cant take one home Sue         am  was  are  were    is  was  are  were    climb  hike  row  jump    You can say that again   Thats too bad   Arent they yummy   Good for you   How can that happen '}},\n",
       " {'_index': 'english',\n",
       "  '_id': 'R6VJ_4QBEEX4d7Qusfn8',\n",
       "  '_score': 4.1579843,\n",
       "  '_source': {'index': 'h-2-5-r-2',\n",
       "   'content': 'Little Cynthia was near a hill with her parents last Saturday   A beautiful garden was behind the hill   There were a lot of flowers there   She saw many butterflies flying near the flowers   Cynthia looked at one of them  and suddenly a dragonfly and two caterpillars appeared in front of her   She pointed at the caterpillars and asked her dad  What are they   He answered  They are babies of the beautiful butterflies   They dont fly now  but they can climb and eat food on the trees and flowers   Cynthias mother said to her  Be careful   Dont hurt them  or you cant see butterflies anymore   What are babies of the butterflies   Dragonflies   Places   Caterpillars   Flowers   Where was Cynthia last Saturday   In a garden   Near a river   In a mountain   By a lake '}},\n",
       " {'_index': 'english',\n",
       "  '_id': 'J6VJ_4QBEEX4d7Qusfn7',\n",
       "  '_score': 3.9402566,\n",
       "  '_source': {'index': 'h-2-4-c-2',\n",
       "   'content': 'Alice  What are they Cathy  Smores   They are from Jason   The name is     some more   Kids love them Alice  Are they sweet Cathy  Yes  there are chocolate and marshmallows in the crackers Alice      there any popcorn in the kitchen   We can put some popcorn on them Cathy  Thats a good idea   But we dont have     popcorn   We only have a little Alice  Dont worry   I think Joanne can lend us some       do we have any tea Cathy  Yes  but what for Alice  We can make milk tea   Smores and milk tea make us a perfect afternoon Cathy  How do you make it Alice  Its very easy   Just put milk  tea  and sugar in the     Cathy  Cool   I cant wait     short for  popular with  in front of  inside    Has  Is  Have  Are    many  some  much  any    Sure  Where  By the way   What    boxes  cups  candy  flour'}},\n",
       " {'_index': 'english',\n",
       "  '_id': 'baVJ_4QBEEX4d7Qusfn9',\n",
       "  '_score': 3.3849645,\n",
       "  '_source': {'index': 'h-2-6-r-7',\n",
       "   'content': 'He said he had much workSo I went to the show aloneThey turned down the lightsAnd turned the projector onAnd just as the news ofThe world started to beginI saw my darling and my good friend walk inThough I was sitting there  they didnt seeAnd so they sat right down in front of meWhen he kissed her lipsI almost diedAnd in the middle of the color cartoonI started to cryOh sad movies always make me cryOh sad movies always make me crySo I got up and walked back homeAnd Mama saw the tearsAnd said whats wrongSo to keep from telling her a lieI just saidSad movies make me cryby Sue Thompson Sad Movies  What does the word darling mean  Father   Boyfriend   Uncle   Cousin   Which is NOT right   The girl went to the movies on her own   The girl cried because of the sad movie   The girls mother askedher what happened to her   The girl did not tell her mother the truth   What happened to the girl during the movie   She died in the middle of the movie   She turned on her phone and talked to her mom   She got some good sleep   She saw her good friend come see the movie '}}]"
      ]
     },
     "execution_count": 16,
     "metadata": {},
     "output_type": "execute_result"
    }
   ],
   "source": [
    "result['hits']['hits']"
   ]
  },
  {
   "cell_type": "code",
   "execution_count": 348,
   "id": "750d0e9a-f56d-43c5-b4cb-fac147846cbb",
   "metadata": {},
   "outputs": [
    {
     "data": {
      "text/html": [
       "<div>\n",
       "<style scoped>\n",
       "    .dataframe tbody tr th:only-of-type {\n",
       "        vertical-align: middle;\n",
       "    }\n",
       "\n",
       "    .dataframe tbody tr th {\n",
       "        vertical-align: top;\n",
       "    }\n",
       "\n",
       "    .dataframe thead th {\n",
       "        text-align: right;\n",
       "    }\n",
       "</style>\n",
       "<table border=\"1\" class=\"dataframe\">\n",
       "  <thead>\n",
       "    <tr style=\"text-align: right;\">\n",
       "      <th></th>\n",
       "      <th>出版社</th>\n",
       "      <th>第幾測</th>\n",
       "      <th>第幾課</th>\n",
       "      <th>相同但不重複的字有</th>\n",
       "      <th>幾個字</th>\n",
       "    </tr>\n",
       "  </thead>\n",
       "  <tbody>\n",
       "  </tbody>\n",
       "</table>\n",
       "</div>"
      ],
      "text/plain": [
       "Empty DataFrame\n",
       "Columns: [出版社, 第幾測, 第幾課, 相同但不重複的字有, 幾個字]\n",
       "Index: []"
      ]
     },
     "execution_count": 348,
     "metadata": {},
     "output_type": "execute_result"
    }
   ],
   "source": [
    "import pandas as pd\n",
    "\n",
    "grades = {\n",
    "    \"出版社\": [],\n",
    "    \"第幾測\": [],\n",
    "    \"第幾課\": [],\n",
    "    \"相同但不重複的字有\": [],\n",
    "    \"幾個字\": [],\n",
    "}\n",
    " \n",
    "df = pd.DataFrame(grades)\n",
    "\n",
    "df = df.append({\n",
    "    \"出版社\": \"翰林\",\n",
    "    \"第幾測\": ,\n",
    "    \"第幾課\": ,\n",
    "    \"相同但不重複的字有\": ,\n",
    "    \"幾個字\": ,\n",
    "}, ignore_index=True)\n",
    " \n",
    "print(df)\n",
    "df.to_csv('folder/subfolder/out.csv', index=False)"
   ]
  },
  {
   "cell_type": "code",
   "execution_count": 20,
   "id": "9f26df4a-f979-4b7a-a033-bc5af9c5e7f0",
   "metadata": {},
   "outputs": [
    {
     "data": {
      "text/plain": [
       "ObjectApiResponse({'acknowledged': True})"
      ]
     },
     "execution_count": 20,
     "metadata": {},
     "output_type": "execute_result"
    }
   ],
   "source": [
    "es.options(ignore_status=[400,404]).indices.delete(index='english')"
   ]
  },
  {
   "cell_type": "code",
   "execution_count": null,
   "id": "6cdc5e08-6797-489b-aa84-5b9a2384ceff",
   "metadata": {},
   "outputs": [],
   "source": []
  }
 ],
 "metadata": {
  "kernelspec": {
   "display_name": "Python 3",
   "language": "python",
   "name": "python3"
  },
  "language_info": {
   "codemirror_mode": {
    "name": "ipython",
    "version": 3
   },
   "file_extension": ".py",
   "mimetype": "text/x-python",
   "name": "python",
   "nbconvert_exporter": "python",
   "pygments_lexer": "ipython3",
   "version": "3.8.8"
  }
 },
 "nbformat": 4,
 "nbformat_minor": 5
}
