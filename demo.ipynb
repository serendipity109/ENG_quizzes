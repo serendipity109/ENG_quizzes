{
 "cells": [
  {
   "cell_type": "code",
   "execution_count": 1,
   "id": "329392d4",
   "metadata": {},
   "outputs": [],
   "source": [
    "from utils import *"
   ]
  },
  {
   "cell_type": "code",
   "execution_count": 2,
   "id": "fc65fb72",
   "metadata": {},
   "outputs": [
    {
     "data": {
      "text/plain": [
       "'Roy is an American student.  He is now living with the Lin family in Taipei.  The Moon Festival is coming, and the Lin family are planning something special for that day.  Look at the schedule and answer the questions.（\\u3000） １ \\u3000Today is the Moon Festival.  Where are the Lin family enjoying their lunch with Roy?\\u3000 Ａ \\u3000At home.\\u3000 Ｂ \\u3000At a famous restaurant.\\u3000 Ｃ \\u3000At the park.\\u3000 Ｄ \\u3000At Taipei 101.（\\u3000） ２ \\u3000Roy is now watching the moon through（透過）the binoculars（望遠鏡）.  Where is he, and what time may it be?\\u3000 Ａ \\u3000At 9 00 a.m. at the park.\\u3000 Ｂ \\u3000At 10 00 a.m. at the basketball court.\\u3000 Ｃ \\u3000At 7 00 p.m. at a restaurant.\\u3000 Ｄ \\u3000At 9 00 p.m. at Taipei 101.'"
      ]
     },
     "execution_count": 2,
     "metadata": {},
     "output_type": "execute_result"
    }
   ],
   "source": [
    "annator(\"Roy is an American student.  He is now living with the Lin family in Taipei.  The Moon Festival is coming, and the Lin family are planning something special for that day.  Look at the schedule and answer the questions.\\\n",
    "（　）(１)　Today is the Moon Festival.  Where are the Lin family enjoying their lunch with Roy?　(Ａ)　At home.　(Ｂ)　At a famous restaurant.　(Ｃ)　At the park.　(Ｄ)　At Taipei 101.\\\n",
    "（　）(２)　Roy is now watching the moon through（透過）the binoculars（望遠鏡）.  Where is he, and what time may it be?　(Ａ)　At 9:00 a.m. at the park.　(Ｂ)　At 10:00 a.m. at the basketball court.　(Ｃ)　At 7:00 p.m. at a restaurant.　(Ｄ)　At 9:00 p.m. at Taipei 101.\\\n",
    "\")"
   ]
  },
  {
   "cell_type": "code",
   "execution_count": 3,
   "id": "e4186fb8-ea59-469e-8a74-a3194960ca8a",
   "metadata": {},
   "outputs": [
    {
     "name": "stdout",
     "output_type": "stream",
     "text": [
      "{'name': '82f4a0215aab', 'cluster_name': 'docker-cluster', 'cluster_uuid': 'clCI8vQKS8G-vbe-jzxGdw', 'version': {'number': '8.5.2', 'build_flavor': 'default', 'build_type': 'docker', 'build_hash': 'a846182fa16b4ebfcc89aa3c11a11fd5adf3de04', 'build_date': '2022-11-17T18:56:17.538630285Z', 'build_snapshot': False, 'lucene_version': '9.4.1', 'minimum_wire_compatibility_version': '7.17.0', 'minimum_index_compatibility_version': '7.0.0'}, 'tagline': 'You Know, for Search'}\n"
     ]
    }
   ],
   "source": [
    "# Initiate the database\n",
    "es = ES()"
   ]
  },
  {
   "cell_type": "code",
   "execution_count": 4,
   "id": "8432e2c3-e4f8-4103-aaaf-4a16d3395a36",
   "metadata": {
    "scrolled": true,
    "tags": []
   },
   "outputs": [
    {
     "name": "stdout",
     "output_type": "stream",
     "text": [
      "Index english exists, ignored.\n",
      "Index english1 exists, ignored.\n",
      "Cretae index english2.\n"
     ]
    }
   ],
   "source": [
    "# Create indices in the database\n",
    "es.create(['english', 'english1', 'english2'])"
   ]
  },
  {
   "cell_type": "code",
   "execution_count": 5,
   "id": "c8c08961-c992-4d57-b63a-19003296ad9b",
   "metadata": {
    "tags": []
   },
   "outputs": [
    {
     "data": {
      "text/plain": [
       "(151, [])"
      ]
     },
     "execution_count": 5,
     "metadata": {},
     "output_type": "execute_result"
    }
   ],
   "source": [
    "# Load data from labeled corpus to the indices\n",
    "es.load_from_corpus(path='corpus.json')"
   ]
  },
  {
   "cell_type": "code",
   "execution_count": 6,
   "id": "ca5f1537-5ad1-4c24-9634-4991d3b55035",
   "metadata": {
    "tags": []
   },
   "outputs": [],
   "source": [
    "# Load keywords to infer the database\n",
    "kws = es.read_kw(path='正在學的單字\\康1-1~1-3.txt')"
   ]
  },
  {
   "cell_type": "code",
   "execution_count": 7,
   "id": "18af0d8b-fd1e-47e7-a0db-a1147256c956",
   "metadata": {},
   "outputs": [],
   "source": [
    "# Infer the database by the keywords\n",
    "output = es.inference(kws)"
   ]
  },
  {
   "cell_type": "code",
   "execution_count": 8,
   "id": "750d0e9a-f56d-43c5-b4cb-fac147846cbb",
   "metadata": {
    "tags": []
   },
   "outputs": [
    {
     "name": "stdout",
     "output_type": "stream",
     "text": [
      "   出版社 第幾測 第幾課 第幾篇文章                                           相同但不重複的字 幾個字\n",
      "0   翰林   1   6   r12  [zebras, animals, place, family, zebra, around...  16\n",
      "1   翰林   1   6    r3  [zebras, animals, too, monkey, lions, true, cu...  15\n",
      "2   翰林   1   6    r8  [zebras, animals, near, lions, cute, lion, hou...  14\n",
      "3   翰林   1   2    c8  [near, inside, pet, next, picture, sofa, betwe...  14\n",
      "4   翰林   1   2    c9  [inside, too, next, cute, for, uncle, house, p...  14\n",
      "..  ..  ..  ..   ...                                                ...  ..\n",
      "95  翰林   2   6    c2  [next, or, pictures, daughter, junior high sch...   6\n",
      "96  翰林   1   2    c7        [next, for, bed, between, kitchen, next to]   6\n",
      "97  翰林   2   5   r17       [movie, for, or, room, minutes, living room]   6\n",
      "98  翰林   1   3    r6             [animals, monkey, or, smart, elephant]   5\n",
      "99  翰林   2   4    c3                   [near, for, house, minutes, but]   5\n",
      "\n",
      "[100 rows x 6 columns]\n"
     ]
    }
   ],
   "source": [
    "# Use the output to make the csv file\n",
    "es.output_csv(output, nrows=100, oup_path='out.csv')"
   ]
  },
  {
   "cell_type": "code",
   "execution_count": 9,
   "id": "e2dcf24e-a496-4620-b040-8a7f7d087964",
   "metadata": {},
   "outputs": [
    {
     "name": "stdout",
     "output_type": "stream",
     "text": [
      "CPfkBoUBZVpKvb6ORYEG ['zebras', 'animals', 'place', 'family', 'zebra', 'around', 'beautiful', 'son', 'next', 'or', 'wife', 'daughter', 'but', 'like', 'husband', 'tigers'] 16\n",
      "9vfkBoUBZVpKvb6ORYAG ['zebras', 'animals', 'too', 'monkey', 'lions', 'true', 'cute', 'monkeys', 'house', 'elephants', 'rabbits', 'different', 'but', 'animal', 'tigers'] 15\n",
      "APfkBoUBZVpKvb6ORYEG ['zebras', 'animals', 'near', 'lions', 'cute', 'lion', 'house', 'parents', 'elephant', 'elephants', 'different', 'but', 'like', 'tigers'] 14\n"
     ]
    }
   ],
   "source": [
    "# Inspect the top ranked paragraphs\n",
    "es.top(output, n=3)"
   ]
  },
  {
   "cell_type": "code",
   "execution_count": 10,
   "id": "71b36b28-8407-49bf-b449-337349207efe",
   "metadata": {},
   "outputs": [
    {
     "data": {
      "text/plain": [
       "ObjectApiResponse({'_index': 'english', '_id': 'CPfkBoUBZVpKvb6ORYEG', '_version': 1, '_seq_no': 47, '_primary_term': 1, 'found': True, '_source': {'index': 'h-1-6-r-12', 'content': ' In Kenya   Wow   The place is full of wild animals   Can we see tigers here in Africa   No   Theyre from Asia   Good to know   Oh  take a look at the beautiful animals over there   Yeah   What are those on their backs   Oxpeckers   According to my father  oxpeckers are a big help to zebras   They can clean the bugs up in their coat  and the bugs are food to oxpeckers   Its so called mutualism   I see   But isnt it like you and me   What    You and I are a happy family of two thanks to each others love and help   And were going to have our first baby son next March   I cant wait   Thank you  my dear husband   You and our baby are dear to me  but you will be number two after he is born   Poor me   Now lets go around and look at the other animals   OK   Are there any tigers in Kenya  Africa   Yes  there are some   No  there arent any   Yes  good to know them over there   No  there are no tigers or zebras there   What is a good example of mutualism   Rita and her baby son   Jeff and his baby son   A zebra and an oxpecker   A zebra and the bugs on its back   How manypeople are there in Jeffs family   Two   Three   Four   Five   Who is number one in Ritas eyes now   Ritas son   Ritas daughter   Jeff   Jeffs wife '}})"
      ]
     },
     "execution_count": 10,
     "metadata": {},
     "output_type": "execute_result"
    }
   ],
   "source": [
    "# View the content of paragraph which stored in the database\n",
    "es.inspect(index='english', id='CPfkBoUBZVpKvb6ORYEG')"
   ]
  },
  {
   "cell_type": "code",
   "execution_count": 11,
   "id": "2830ec69-ceff-4f31-8976-46d63d6b9138",
   "metadata": {},
   "outputs": [
    {
     "data": {
      "text/plain": [
       "ObjectApiResponse({'acknowledged': True})"
      ]
     },
     "execution_count": 11,
     "metadata": {},
     "output_type": "execute_result"
    }
   ],
   "source": [
    "# Delete the index which you mistyped\n",
    "es.delete_index('english3')"
   ]
  },
  {
   "cell_type": "code",
   "execution_count": null,
   "id": "2b053b5b-853e-428f-935f-57acc5e3a02e",
   "metadata": {},
   "outputs": [],
   "source": []
  }
 ],
 "metadata": {
  "kernelspec": {
   "display_name": "Python 3",
   "language": "python",
   "name": "python3"
  },
  "language_info": {
   "codemirror_mode": {
    "name": "ipython",
    "version": 3
   },
   "file_extension": ".py",
   "mimetype": "text/x-python",
   "name": "python",
   "nbconvert_exporter": "python",
   "pygments_lexer": "ipython3",
   "version": "3.8.8"
  }
 },
 "nbformat": 4,
 "nbformat_minor": 5
}
