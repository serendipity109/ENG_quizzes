{
 "cells": [
  {
   "cell_type": "code",
   "execution_count": 334,
   "id": "ce83f9a5-3e6e-44cb-a3f1-59b43496e48f",
   "metadata": {},
   "outputs": [
    {
     "data": {
      "text/plain": [
       "'Lend & Borrow Do you like making snacks?  We do, but we don’t make snacks every day.  Often, we use a bag of baking powder for months.  Join us, and we can lend and borrow ingredients to and from others.  We like to use fresh ingredients to make snacks, right?\\u2028‧What do we have in our kitchens now?\\u2028－Five bags of flour\\u2028－Seven bags of sugar\\u2028－Ten bags of salt\\u2028－Five boxes of chocolate\\u2028－Five bags of marshmallows\\u2028－Thirty pineapples\\u2028－Fifteen apples\\u2028－A lot of bananas\\u2028－A lot of oranges\\u2028‧Want to join us?\\u2028We are mothers in Fun City.\\u2028Call us at: 0988-570-991\\u2028Or visit us at: www.momsnacklovers.funcity.com（\\u3000）(１)\\u3000“A marshmallow sandwich is an easy snack.  First, put some fruit on a cookie.  Second, roast a marshmallow over fire.  Third, put another cookie on top.”  What is NOT an ingredient for a marshmallow sandwich?\\u3000(Ａ)\\u3000Cookies.\\u3000(Ｂ)\\u3000Fire.\\u3000(Ｃ)\\u3000Fruit.\\u3000(Ｄ)\\u3000Marshmallows.（\\u3000）(２)\\u3000Who might（可能）join them?\\u3000(Ａ)\\u3000A teacher.  He is very busy teaching every day.\\u3000(Ｂ)\\u3000A mother.  She enjoys making snacks for her family, but only once or twice a month.\\u3000(Ｃ)\\u3000A baker（烘焙師）.  She needs a lot of sugar, salt and flour every day.\\u3000(Ｄ)\\u3000A doctor.  He never cooks or makes snacks.（\\u3000）(３)\\u3000What is in the kitchens?\\u3000(Ａ)\\u3000There are only seven bags of salt.\\u3000(Ｂ)\\u3000There are five boxes of baking powder.\\u3000(Ｃ)\\u3000There aren’t any fruits.\\u3000(Ｄ)\\u3000There are sweet things.（\\u3000）(１)\\u3000How to make a marshmallow sandwich?(Ａ)→→→→→\\u3000(Ｂ)→→→→→\\u3000(Ｃ)→→→→→\\u3000(Ｄ)→→→→→（\\u3000）(２)\\u3000Which is NOT in the marshmallow sandwich?\\u3000(Ａ)\\u3000Marshmallows.\\u3000(Ｂ)\\u3000Strawberries.\\u3000(Ｃ)\\u3000Cookies.\\u3000(Ｄ)\\u3000Coffee.（\\u3000）(３)\\u3000Amanda wants to make six marshmallow sandwiches.  How many marshmallows does she need?\\u3000(Ａ)\\u3000Five cups.\\u3000(Ｂ)\\u3000Six cups.\\u3000(Ｃ)\\u3000Ten cups.\\u3000(Ｄ)\\u3000Twelve cups.\\u3000\\u3000Billy’s birthday is coming.  His friends, Sue and Judy, want to have a party for him.  They need some things for the party and write them down.（\\u3000）(１)\\u3000There is one apple on everyone’s plate.  How many apples do Sue and Judy buy for the party?\\u3000(Ａ)\\u3000One.\\u3000(Ｂ)\\u3000Eight.\\u3000(Ｃ)\\u3000Ten.\\u3000(Ｄ)\\u3000Eleven.（\\u3000）(２)\\u3000There are twelve pineapple cakes in one box.  How many pineapple cakes do they buy?\\u3000(Ａ)\\u300010.\\u3000(Ｂ)\\u300012. \\u3000(Ｃ)\\u300020.\\u3000(Ｄ)\\u300024.（\\u3000）(３)\\u3000A turkey sandwich is NT$35.  Buy three and get one free.  How much are the ten turkey sandwiches?\\u3000(Ａ)\\u3000NT$350.\\u3000(Ｂ)\\u3000NT$280.\\u3000(Ｃ)\\u3000NT$210.\\u3000(Ｄ)\\u3000NT$150.（\\u3000）(１)\\u3000What’s “Helen’s”?\\u3000(Ａ)\\u3000It’s a name.\\u3000(Ｂ)\\u3000It’s a zoo.\\u3000(Ｃ)\\u3000It’s Daisy’s friend.\\u3000(Ｄ)\\u3000It’s a shop.（\\u3000）(２)\\u3000What DOESN’T John need to buy?\\u3000(Ａ)\\u3000A pumpkin.\\u3000(Ｂ)\\u3000Coffee.\\u3000(Ｃ)\\u3000Flour.\\u3000(Ｄ)\\u3000Juice.（\\u3000）(３)\\u3000What’s “Joyce’s”?\\u3000(Ａ)\\u3000It’s a restaurant（餐廳）.\\u3000(Ｂ)\\u3000It’s a school.\\u3000(Ｃ)\\u3000It’s a blender（攪拌機）.\\u3000(Ｄ)\\u3000It’s a party.（\\u3000）(４)\\u3000Which is true（正確的）?\\u3000(Ａ)\\u3000Daisy bought flour and juice.\\u3000(Ｂ)\\u3000John will have a picnic this Saturday.\\u3000(Ｃ)\\u3000John and Kate may have dinner at Joyce’s.\\u3000(Ｄ)\\u3000John needs to buy coffee milk for Kate.（\\u3000）(１)\\u3000You can see this page（頁）in \\u3000\\u3000\\u3000.\\u3000(Ａ)\\u3000Popular Music Today\\u3000(Ｂ)\\u3000Yummy Food\\u3000(Ｃ)\\u3000TV Talent（才能）Show\\u3000(Ｄ)\\u3000Hot Movies（\\u3000）(２)\\u3000What DON’T you need to make pineapple cookies?\\u3000(Ａ)\\u3000Salt.\\u3000(Ｂ)\\u3000Eggs.\\u3000(Ｃ)\\u3000A pineapple.\\u3000(Ｄ)\\u3000Flour.（\\u3000）(３)\\u3000What does “Ingredients” mean?\\u3000(Ａ)\\u3000What do you get?\\u3000(Ｂ)\\u3000How much are they?\\u3000(Ｃ)\\u3000What do you need?\\u3000(Ｄ)\\u3000How many eggs do you need?\\u3000\\u3000Nick eats a lot every day.  He has two burgers, some crackers, and one can of cola for breakfast.  For lunch, he eats a sandwich, two slices of pizza and one can of cola.  In the evening, he eats three bowls of salad, two turkey burgers, a tub of popcorn, and a can of cola.  He is getting fat.  His cousin, Jack, tells Nick, “You are sick.  You need to see a doctor.”  The doctor says, “You can’t eat that much food.  Don’t eat pizza, popcorn, crackers or cola for breakfast, lunch, or dinner.  They are not good for you.  Drink water and milk.”  Nick listens to Jack and the doctor.  He hopes he can be thin.（\\u3000）(１)\\u3000Who is Jack?\\u3000(Ａ)\\u3000He is a doctor.\\u3000(Ｂ)\\u3000He is Nick’s friend.\\u3000(Ｃ)\\u3000He is Nick’s cousin.\\u3000(Ｄ)\\u3000He is the doctor’s friend.（\\u3000）(２)\\u3000What can Nick have for breakfast now?\\u3000(Ａ)\\u3000Crackers.\\u3000(Ｂ)\\u3000Milk.\\u3000(Ｃ)\\u3000Pizza.\\u3000(Ｄ)\\u3000Cola.（\\u3000）(３)\\u3000Which is true（正確的）?\\u3000(Ａ)\\u3000Nick can’t drink cola now.\\u3000(Ｂ)\\u3000Nick is thin before he sees a doctor.\\u3000(Ｃ)\\u3000Nick doesn’t want to be thin.\\u3000(Ｄ)\\u3000Jack eats a lot, too.（\\u3000）(１)\\u3000Which one is the chocolate cookie?\\u3000(Ａ)\\u3000\\u3000(Ｂ)\\u3000\\u3000(Ｃ)\\u3000\\u3000(Ｄ)\\u3000（\\u3000）(２)\\u3000What DON’T you need for making chocolate cookies?\\u3000(Ａ)\\u3000Eggs.\\u3000(Ｂ)\\u3000Butter.\\u3000(Ｃ)\\u3000Flour.\\u3000(Ｄ)\\u3000Milk.（\\u3000）(３)\\u3000Tina makes the cookies for her friends, Jack, Lina, Sherry and Dave.  What is right?\\u3000(Ａ)\\u3000Lina: The cookies are very sweet, so（所以）I eat them when I drink coffee.\\u3000(Ｂ)\\u3000Dave: I want to make the cookies for my friends, too.  Can you lend me some salt?\\u3000(Ｃ)\\u3000Sherry: I sometimes lend Tina fruit because（因為）she wants to make the cookies.\\u3000(Ｄ)\\u3000Jack: I like the cookies because there are marshmallows on top.\\u3000\\u3000Do your relatives sometimes come to your house but you can’t make yummy snacks for them?  Let me help you!（\\u3000）(１)\\u3000What do people get after reading and following the steps（步驟）?\\u3000(Ａ)\\u3000Fruit cakes and chocolate milk.\\u3000(Ｂ)\\u3000Marshmallow coffee and green tea.\\u3000(Ｃ)\\u3000Milk chocolate and orange juice.\\u3000(Ｄ)\\u3000Marshmallow sandwiches and fruit milk tea.（\\u3000）(２)\\u3000Jane wants to make the drink, and what does she need?\\u3000(Ａ)\\u3000Popcorn.\\u3000(Ｂ)\\u3000Marshmallows.\\u3000(Ｃ)\\u3000Apples.\\u3000(Ｄ)\\u3000Crackers.（\\u3000）(３)\\u3000Laura is making the first snack.  What is the right order（順序）?（\\u3000）(１)\\u3000What is this recipe for?\\u3000(Ａ)\\u3000Banana cake.\\u3000(Ｂ)\\u3000Egg soup.\\u3000(Ｃ)\\u3000Hamburgers.\\u3000(Ｄ)\\u3000Fruit salad.（\\u3000）(２)\\u3000How much flour do we need?\\u3000(Ａ)\\u3000One bag.\\u3000(Ｂ)\\u3000Two bags.\\u3000(Ｃ)\\u3000Three bags.\\u3000(Ｄ)\\u3000Four bags.（\\u3000）(３)\\u3000How many bags of sugar do we need?\\u3000(Ａ)\\u3000One.\\u3000(Ｂ)\\u3000Two.\\u3000(Ｃ)\\u3000Three.\\u3000(Ｄ)\\u3000Four.\\u3000\\u3000It’s always great to have a glass of milk shake on a hot day.  Sometimes, there’s a lot of sugar in it.  Make it at home.  It’s yummy, and it’s healthy for you, your friends and family.\\u2028－First, go and check what’s in your kitchen.\\u2028－Second, take out fruits you find.  Bananas, apples, oranges or pineapples are all good for milk shake.\\u2028－Third, get a little ice cream and a glass of milk.\\u2028－Last, blend all the things together.\\u2028\\u3000\\u3000See!  It’s very easy, but everybody loves it.  Try it!（\\u3000）(１)\\u3000You want to make milk shake.  What DON’T you need?\\u3000(Ａ)\\u3000A glass.\\u3000(Ｂ)\\u3000Ice cream.\\u3000(Ｃ)\\u3000Fruits.\\u3000(Ｄ)\\u3000Candy.（\\u3000）(２)\\u3000Kevin makes the milk shake for his family.  What might（可能）they say?\\u3000(Ａ)\\u3000It’s too hot.  Can I drink it later?\\u3000(Ｂ)\\u3000Wow!  We can eat it every morning.  I like it.\\u3000(Ｃ)\\u3000How much salt do you need when（當）you make it?\\u3000(Ｄ)\\u3000I think there are apples and bananas in this.  Yummy!（\\u3000）(３)\\u3000The writer thinks you can try to make it.  What is NOT a reason（理由）?\\u3000(Ａ)\\u3000It’s popular.\\u3000(Ｂ)\\u3000It’s easy.\\u3000(Ｃ)\\u3000It’s healthy.\\u3000(Ｄ)\\u3000It needs a lot of time.Dear Howard,\\u2028\\u3000\\u3000Please buy some milk, one bag of sugar and two bags of flour for me after work.  I want to make a chocolate cake for Grandmother.  She is eighty years old this year, and we will have a big birthday party for her.  She loves chocolate very much.  Don’t buy any drinks or fruit.  Jack bought them at the supermarket.  By the way, I need a cup of coffee.  Can you also buy it for me on your way home?Sara（\\u3000）(１)\\u3000What does Sara NOT ask（要求）Howard to buy?\\u3000(Ａ)\\u3000Milk.\\u3000(Ｂ)\\u3000Coffee.\\u3000(Ｃ)\\u3000Sugar.\\u3000(Ｄ)\\u3000Chocolate.（\\u3000）(２)\\u3000What does Sara’s grandmother like very much?\\u3000(Ａ)\\u3000Cake.\\u3000(Ｂ)\\u3000Coffee.\\u3000(Ｃ)\\u3000Drinks.\\u3000(Ｄ)\\u3000Chocolate.（\\u3000）(３)\\u3000Which is true（正確的）?\\u3000(Ａ)\\u3000Sara wants to make a chocolate cake for her grandmother.\\u3000(Ｂ)\\u3000Sara doesn’t like coffee.\\u3000(Ｃ)\\u3000Howard is a student.\\u3000(Ｄ)\\u3000Howard will buy some drinks at the supermarket.(In the kitchen)\\u2028Roy: Father’s birthday is coming, but we don’t have any money to buy a gift for him.  What can we do?\\u2028\\u3000Liz: How about making a birthday cake for him?\\u2028Roy: I’m lousy at making cakes or cookies, but there is one thing for sure.\\u2028\\u3000Liz: What is it then?  Haha!  I know you love to eat them, but you can’t make them.  Am I right?\\u2028Roy: You’re really my cute sister.  You know me so well.  By the way, what do we need for the cake?\\u2028\\u3000Liz: Some flour, sugar, and eggs.\\u2028Roy: Here we have a bag of flour and some sugar, but we don’t have any eggs at home.\\u2028\\u3000Liz: Don’t worry.  You have many goose eggs.\\u2028Roy: What are you talking about?\\u2028\\u3000Liz: You don’t like English, and you get the lowest grades on English tests.\\u2028Roy: That’s very, very funny.（\\u3000）(１)\\u3000What does it mean（意指）when someone is lousy at doing something（某些事情）?\\u3000(Ａ)\\u3000They are famous for it.\\u3000(Ｂ)\\u3000They can not do it well.\\u3000(Ｃ)\\u3000They like it very much.\\u3000(Ｄ)\\u3000They are too old for it.（\\u3000）(２)\\u3000Which is true（正確的）about Roy or Liz?\\u3000(Ａ)\\u3000Roy likes to make cakes and cookies.\\u3000(Ｂ)\\u3000Roy does not like to eat cakes or cookies.\\u3000(Ｃ)\\u3000Roy and Liz are husband and wife.\\u3000(Ｄ)\\u3000Liz is making fun of（嘲弄）Roy.（\\u3000）(３)\\u3000When（當）Roy gets a goose egg on an English test, he gets ＿＿＿.\\u3000(Ａ)\\u3000100\\u3000(Ｂ)\\u300080\\u3000(Ｃ)\\u300060\\u3000(Ｄ)\\u30000（\\u3000）(４)\\u3000What else do Roy and Liz need to buy for the cake?\\u3000(Ａ)\\u3000Eggs.\\u3000(Ｂ)\\u3000Cookies.\\u3000(Ｃ)\\u3000Sugar.\\u3000(Ｄ)\\u3000Flour.'"
      ]
     },
     "execution_count": 334,
     "metadata": {},
     "output_type": "execute_result"
    }
   ],
   "source": [
    "\"Jeff: Hi, Mom.  I’m back home. ",
    "Mom: Today is your first day of school.  How 　(1)　 everything at school? ",
    "　Jeff: Not bad.  We have a new PE teacher, Miss Chen.  She’s very good at basketball. ",
    "Mom: Miss Chen?  Is her name Shu-fen Chen? ",
    "　Jeff: That’s right.  　(2)　 you know her before? ",
    "Mom: She and I 　(3)　 classmates fifteen years ago.  She 　(4)　 the star basketball player at our school.  Hey, let’s go to the park, and you can show me your basketball skills. ",
    "　Jeff: OK.  Let’s go!\\\n",
    "（　）(１)(Ａ)　is　(Ｂ)　are　(Ｃ)　was　(Ｄ)　were\\\n",
    "（　）(２)(Ａ)　Do　(Ｂ)　Did　(Ｃ)　Are　(Ｄ)　Were\\\n",
    "（　）(３)(Ａ)　is　(Ｂ)　was　(Ｃ)　are　(Ｄ)　were\\\n",
    "（　）(４)(Ａ)　is　(Ｂ)　was　(Ｃ)　are　(Ｄ)　were\\\n",
    "　Jim: Were you at home last weekend? ",
    "Meg: No.  I was at my grandparents’ new house.  There’s a nice garden in the front of the house, and my grandpa and I 　(1)　 there all Saturday afternoon. ",
    "　Jim: How about your sister, May?  Was she not there with you? ",
    "Meg: No.  She was 　(2)　 the lake behind the house. ",
    "　Jim: 　(3)　 ",
    "Meg: She played with my grandma’s favorite Cody.  Both she and I love dogs very much.  In my eyes, dogs are cute and faithful. ",
    "　Jim: 　(4)　  They’re my favorite animals, too.\\\n",
    "（　）(１)(Ａ)　camped　(Ｂ)　hiked　(Ｃ)　rowed a boat　(Ｄ)　planted one or two trees\\\n",
    "（　）(２)(Ａ)　in　(Ｂ)　on　(Ｃ)　by　(Ｄ)　under\\\n",
    "（　）(３)(Ａ)　What did she do there?　(Ｂ)　What happened to her?　(Ｃ)　Who was she with?　(Ｄ)　Who was with her?\\\n",
    "（　）(４)(Ａ)　Not really.　(Ｂ)　You can say that again!　(Ｃ)　That’s new to me.　(Ｄ)　I see.\\\n",
    "(At Lily’s home) ",
    "　Sue: You weren’t at home last weekend.  Where were you? ",
    "Lily: I 　(1)　 at my grandfather’s new house in the mountains. ",
    "　Sue: Is there anything special there? ",
    "Lily: Yes, there is a pond in front of the house.  There 　(2)　 many tadpoles in the pond then. ",
    "　Sue: Tadpoles?  Were they babies of the Taipei tree frogs? ",
    "Lily: That’s right.  Look at the picture.  The Taipei tree frogs are so small and cute. ",
    "　Sue: Can they 　(3)　 trees? ",
    "Lily: Yes, they can.  They’re protected animals, and people can’t take one home. ",
    "　Sue: 　(4)　\\\n",
    "（　）(１)(Ａ)　am　(Ｂ)　was　(Ｃ)　are　(Ｄ)　were\\\n",
    "（　）(２)(Ａ)　is　(Ｂ)　was　(Ｃ)　are　(Ｄ)　were\\\n",
    "（　）(３)(Ａ)　climb　(Ｂ)　hike　(Ｃ)　row　(Ｄ)　jump\\\n",
    "（　）(４)(Ａ)　You can say that again!　(Ｂ)　That’s too bad.  Aren’t they yummy?　(Ｃ)　Good for you!　(Ｄ)　How can that happen?\\\n",
    "Eric: Hi, Dad.  I am home. ",
    "Dad: How 　(1)　 everything at school today? ",
    "Eric: Wonderful.  We have a new English teacher, Mr. Wang.  He is very good at English, and he’s so tall and handsome.  He was in the USA ten years 　(2)　, and he’s back to Taiwan this year. ",
    "Dad: Is his name David Wang?  Is he about 185 centimeters tall? ",
    "Eric: Yes, that’s right.  When 　(3)　 you know him? ",
    "Dad: In junior high school.  We were very close friends 　(4)　.  He was also a top basketball player at that time.  You can ask him some basketball skills, too. ",
    "Eric: Great!\\\n",
    "（　）(１)(Ａ)　is　(Ｂ)　are　(Ｃ)　was　(Ｄ)　were\\\n",
    "（　）(２)(Ａ)　before　(Ｂ)　later　(Ｃ)　after　(Ｄ)　ago\\\n",
    "（　）(３)(Ａ)　do　(Ｂ)　did　(Ｃ)　are　(Ｄ)　were\\\n",
    "（　）(４)(Ａ)　later　(Ｂ)　now　(Ｃ)　ago　(Ｄ)　before\\\n",
    "Joe’s Diary\\\n",
    "Sep. 1, 2018\\\n",
    "　　Today was my first day back at school after the long summer vacation.  We have a new English teacher this semester.  She’s Ms. Lu.  I 　(1)　 English before.  I was never good at it.  But today’s English class 　(2)　 great and lots of fun.  We 　(3)　 and learned some new words.  Everyone in my class 　(4)　.  Now I’m looking forward to learning English well from Ms. Lu.\\\n",
    "（　）(１)(Ａ)　liked　(Ｂ)　was like　(Ｃ)　didn’t like　(Ｄ)　was not like\\\n",
    "（　）(２)(Ａ)　is　(Ｂ)　are　(Ｃ)　was　(Ｄ)　were\\\n",
    "（　）(３)(Ａ)　played a game　(Ｂ)　camped at school　(Ｃ)　hiked for thirty minutes　(Ｄ)　jumped rope\\\n",
    "（　）(４)(Ａ)　was sad　(Ｂ)　was hungry　(Ｃ)　enjoyed the class　(Ｄ)　missed our good old days\\\n",
    "Jim　: Too bad!  Summer vacation ended the day before yesterday.  　(1)　 you have a good time during the vacation? ",
    "Sue: I sure 　(1)　.  My family and I took a trip to Hualien. ",
    "Jim　: Really?  What 　(2)　 you do there? ",
    "Sue: We visited the Ocean Park and 　(3)　 the sea lion show. ",
    "Jim　: How great!  Maybe my parents can’t be that 　(4)　 during winter vacation, and they can take me there. ",
    "Sue: I hope so, too.\\\n",
    "（　）(１)(Ａ)　Do; do　(Ｂ)　Are; am　(Ｃ)　Did; did　(Ｄ)　Were; was\\\n",
    "（　）(２)(Ａ)　do　(Ｂ)　did　(Ｃ)　are　(Ｄ)　were\\\n",
    "（　）(３)(Ａ)　watched　(Ｂ)　looked at　(Ｃ)　listened to　(Ｄ)　studied\\\n",
    "（　）(４)(Ａ)　full　(Ｂ)　thirsty　(Ｃ)　free　(Ｄ)　busy\\\n",
    "(In the living room) ",
    "Dad: Mia, today is February 14.  It’s Valentine’s Day.  　(1)　 ",
    "Mia　: Yes, I did.  Look at the big box of chocolate.  It’s from my boyfriend, Ted. ",
    "Dad: Is that all? ",
    "Mia　: Of course not.  　(2)　 at an expensive restaurant. ",
    "Dad: Did you go dutch? ",
    "Mia　: It could not 　(3)　 to me.  Ted’s treat. ",
    "Dad: 　(4)　 to your mom before. ",
    "Mia　: Poor Mom. ",
    "Dad: Haha!  But she loves me for sure.\\\n",
    "（　）(１)(Ａ)　Weren’t you with your boyfriend?　(Ｂ)　Who were you with all night?　(Ｃ)　Did you enjoy it?　(Ｄ)　Did you get flowers or chocolate on this special day?\\\n",
    "（　）(２)(Ａ)　We enjoyed a yummy big meal　(Ｂ)　We helped each other　(Ｃ)　He cooked a big dinner　(Ｄ)　We did not explore or stop\\\n",
    "（　）(３)(Ａ)　show　(Ｂ)　happen　(Ｃ)　join　(Ｄ)　lend\\\n",
    "（　）(４)(Ａ)　I’m always nice　(Ｂ)　I was always nice　(Ｃ)　I never showed that　(Ｄ)　I seldom talked\\\n",
    "答案：(１)(Ｃ)；(２)(Ａ)；(３)(Ｂ)；(４)(Ｃ)\n",
    "解析：(１)由肯定簡答　Yes, I did.　推知是　Did　起首的　Yes-No　問句，文法及語意只能選(Ｃ)，選項(Ｄ)答句通常是　2　擇　1　作答。\n",
    "(２)　Mia　和　Ted　在一昂貴的餐廳「享用一頓美味的大餐」。\n",
    "(３)　Mia　以「各付各的不會發生在她身上。」回應她爸爸問的。\n",
    "(４)　Mia　感慨「媽好可憐。」可推知「以前她爸爸從不會對她媽媽秀出那樣的。」。\n",
    "認知向度：(1)閱讀理解能力;(2)閱讀理解能力;(3)閱讀理解能力;(4)閱讀理解能力\n",
    "出處：試題\n",
    "課名：There Was a Lot of Trash in the Sea\n",
    "\n",
    "編號：021264\t\t難易度：難\n",
    "\n",
    "　Jim: I visited you yesterday morning, but no one was at home.  　(1)　 ",
    "Ken: I was at my grandparents’ house by the beach. ",
    "　Jim: 　(2)　 the beach? ",
    "Ken: I loved it a lot.  My cousins, Lulu and Hank, and I 　(3)　 beach volleyball after lunch.  After that, we swam in the water.  The beach was clean, and the sea water was warm enough for our favorite water activity. ",
    "　Jim: Luckily, the beach is still a good place to 　(4)　.\n",
    "\n",
    "（　）(１)(Ａ)　What did you do then?　(Ｂ)　Where were you?　(Ｃ)　Weren’t you at home?　(Ｄ)　Did you go out?\n",
    "（　）(２)(Ａ)　Did you enjoy　(Ｂ)　What do you think about　(Ｃ)　How did you enjoy　(Ｄ)　Do you often go to\n",
    "（　）(３)(Ａ)　played　(Ｂ)　played the　(Ｃ)　did not play　(Ｄ)　did not play the\n",
    "（　）(４)(Ａ)　take a shower　(Ｂ)　put trash here and there　(Ｃ)　go on holiday　(Ｄ)　go for a meal\n",
    "答案：(１)(Ｂ)；(２)(Ｃ)；(３)(Ａ)；(４)(Ｃ)\n",
    "解析：(１)　Jim　詢問　Ken「你在哪裡？」，Ken　才以「在海邊祖父母家。」回應。\n",
    "(２)由「我很喜愛它。」可知是　Wh-問句，而且時態是過去式，故選「你多喜愛海灘呢？」。\n",
    "(３)　play(ed) beach volleyball：打沙灘排球。\n",
    "(４)很幸運地，海灘仍然是「度假」的好地方；(Ｄ)吃一餐。\n",
    "認知向度：(1)閱讀理解能力;(2)閱讀理解能力;(3)閱讀理解能力;(4)閱讀理解能力\n",
    "出處：試題\n",
    "課名：There Was a Lot of Trash in the Sea\n",
    "\n",
    "編號：021265\t\t難易度：難\n",
    "\n",
    "Ken: Today is our first day back to school.  I 　(1)　 all our classmates and the nice teachers.  I’m happy to be here again.  Hey, Roy.  You were in Australia for two weeks in August.  　(2)　 ",
    "Roy: I joined an English camp. ",
    "Ken: What?!  I can’t believe it.  You 　(3)　 English before.  How come you joined it? ",
    "Roy: Australia is my favorite country, and we can see kangaroos and koalas there.  Guess what?  I happened to eat a plate of kangaroo meat for the first time in my life. ",
    "Ken: 　(4)　 ",
    "Roy: I sure did.  It was really yummy, but I was sorry for the kangaroo.  It was killed and did not live long. ",
    "Ken: May God bless it!\n",
    "\n",
    "（　）(１)(Ａ)　miss　(Ｂ)　stop　(Ｃ)　visit　(Ｄ)　explore\n",
    "（　）(２)(Ａ)　Who did you go with?　(Ｂ)　How did it happen?　(Ｃ)　What did you do there?　(Ｄ)　Which team did you join?\n",
    "（　）(３)(Ａ)　didn’t like　(Ｂ)　liked　(Ｃ)　wasn’t like　(Ｄ)　was like\n",
    "（　）(４)(Ａ)　How did you like it?　(Ｂ)　Didn’t you enjoy it?　(Ｃ)　How about another plate to go?　(Ｄ)　What about one more plate for here?\n",
    "答案：(１)(Ａ)；(２)(Ｃ)；(３)(Ａ)；(４)(Ｂ)\n",
    "解析：(１)　Ken　第一天回到學校，很「想念」同學和老師。\n",
    "(２)　Ken　詢問　Roy「兩星期在澳洲做了什麼？」，Roy　才以「參加了英語營隊。」回應。\n",
    "(３)　Ken　無法相信　Roy　以前「不喜歡」英文，卻參加了英語營隊。\n",
    "(４)由　Roy　答句　I sure did.（＝Yes, I did.），可知問句是　Yes-No　問句。\n",
    "認知向度：(1)閱讀理解能力;(2)閱讀理解能力;(3)閱讀理解能力;(4)閱讀理解能力\n",
    "出處：試題\n",
    "課名：There Was a Lot of Trash in the Sea\n",
    "\n",
    "編號：021266\t\t難易度：難\n",
    "\n",
    "Mike: Hi, Jill.  Nice to see you.  How were your four-day holidays? ",
    "　Jill: I 　(1)　 anything special.  During the day, I 　(2)　 my parents get all the snacks ready.  My parents sell them at the night market. ",
    "Mike: What a good daughter!  How about the business time?  　(3)　 ",
    "　Jill: Yes.  The business is usually very good during the holidays.  My parents need some help from me.  How about you? ",
    "Mike: My parents and I were at Hualien for three days.  I could be with them for so many hours.  How great! ",
    "　Jill: 　(4)　  Our family are very important to us.\n",
    "\n",
    "（　）(１)(Ａ)　do　(Ｂ)　don’t do　(Ｃ)　did　(Ｄ)　didn’t do\n",
    "（　）(２)(Ａ)　helped　(Ｂ)　helped with　(Ｃ)　didn’t help　(Ｄ)　didn’t help with\n",
    "（　）(３)(Ａ)　Did you have a good time?　(Ｂ)　Did you give them a hand?　(Ｃ)　Didn’t you eat all the snacks?　(Ｄ)　Didn’t you give them a big hand?\n",
    "（　）(４)(Ａ)　Walls have ears.　(Ｂ)　An eye for an eye.　(Ｃ)　Let every day be a holiday.　(Ｄ)　You can say that again!\n",
    "答案：(１)(Ｄ)；(２)(Ａ)；(３)(Ｂ)；(４)(Ｄ)\n",
    "解析：(１)　anything　通常出現在否定句，而情境是詢問過去假日的事，故選(Ｄ)。\n",
    "(２)承(１)，Jill「幫忙了」她父母把所有的點心準備好，用過去式作答，選項(Ｂ)其後是接「所幫忙的事」。\n",
    "(３)　Jill　表示父母在假日需要她的幫忙，故選(Ｂ)。選項(Ｄ)是「妳沒給他們鼓掌嗎？」。\n",
    "(４)　Mike　很高興能長時間與父母在一起，Jill　也認同並以「一點也沒錯！」回應。(Ａ)隔牆有耳(Ｂ)以眼還眼。\n",
    "認知向度：(1)閱讀理解能力;(2)閱讀理解能力;(3)閱讀理解能力;(4)閱讀理解能力\n",
    "出處：試題\n",
    "課名：There Was a Lot of Trash in the Sea\n",
    "\n",
    "編號：021267\t\t難易度：中\n",
    "\n",
    "　　Last Saturday was my sixteenth birthday.  　(1)　 a great party at my place.  My good friends, Mia and Liz, were at the party.  My mom was busy all day, and my dad 　(2)　.  They both cooked such a yummy big dinner.  No wonder everyone 　(3)　 a lot and was very full.  At the end of the party, Mia played the piano, and Liz played the guitar.  Everyone wished me a happy birthday.  I 　(4)　 everyone at the party for the happy time with me.\n",
    "\n",
    "（　）(１)(Ａ)　There’s　(Ｂ)　There was　(Ｃ)　Here comes　(Ｄ)　There goes\n",
    "（　）(２)(Ａ)　was, too　(Ｂ)　wasn’t　(Ｃ)　did, too　(Ｄ)　didn’t\n",
    "（　）(３)(Ａ)　did not like it　(Ｂ)　eats　(Ｃ)　enjoyed it　(Ｄ)　drinks\n",
    "（　）(４)(Ａ)　kiss　(Ｂ)　look at　(Ｃ)　missed　(Ｄ)　thanked\n",
    "\".strip()\n"
   ]
  },
  {
   "cell_type": "code",
   "execution_count": 264,
   "id": "e4186fb8-ea59-469e-8a74-a3194960ca8a",
   "metadata": {},
   "outputs": [
    {
     "data": {
      "text/plain": [
       "ObjectApiResponse({'name': '40fb61a2e53b', 'cluster_name': 'docker-cluster', 'cluster_uuid': 'MN00F2d8TourjrzCJz2PTw', 'version': {'number': '8.5.2', 'build_flavor': 'default', 'build_type': 'docker', 'build_hash': 'a846182fa16b4ebfcc89aa3c11a11fd5adf3de04', 'build_date': '2022-11-17T18:56:17.538630285Z', 'build_snapshot': False, 'lucene_version': '9.4.1', 'minimum_wire_compatibility_version': '7.17.0', 'minimum_index_compatibility_version': '7.0.0'}, 'tagline': 'You Know, for Search'})"
      ]
     },
     "execution_count": 264,
     "metadata": {},
     "output_type": "execute_result"
    }
   ],
   "source": [
    "from elasticsearch import Elasticsearch\n",
    "\n",
    "# Password for the 'elastic' user generated by Elasticsearch\n",
    "ELASTIC_PASSWORD = \"qz666\"\n",
    "\n",
    "# Create the client instance\n",
    "es = Elasticsearch(\n",
    "    \"http://localhost:9200\",\n",
    "    basic_auth=(\"elastic\", ELASTIC_PASSWORD),\n",
    "    verify_certs=False,\n",
    "    ssl_show_warn=False\n",
    ")\n",
    "\n",
    "# Successful response!\n",
    "es.info()"
   ]
  },
  {
   "cell_type": "code",
   "execution_count": 260,
   "id": "8432e2c3-e4f8-4103-aaaf-4a16d3395a36",
   "metadata": {
    "tags": []
   },
   "outputs": [
    {
     "name": "stderr",
     "output_type": "stream",
     "text": [
      "/Users/adam/opt/anaconda3/lib/python3.7/site-packages/ipykernel_launcher.py:21: DeprecationWarning: The 'body' parameter is deprecated and will be removed in a future version. Instead use individual parameters.\n"
     ]
    },
    {
     "data": {
      "text/plain": [
       "ObjectApiResponse({'acknowledged': True, 'shards_acknowledged': True, 'index': 'english'})"
      ]
     },
     "execution_count": 260,
     "metadata": {},
     "output_type": "execute_result"
    }
   ],
   "source": [
    "import json\n",
    "\n",
    "body = {\n",
    "    \"settings\": {\n",
    "        \"number_of_shards\": 3,\n",
    "        \"number_of_replicas\": 2\n",
    "    },\n",
    "    \"mappings\": {\n",
    "        \"properties\": {\n",
    "            \"index\": {\n",
    "                \"type\": \"keyword\"\n",
    "            },\n",
    "            \"content\": {\n",
    "                \"type\": \"text\"\n",
    "        }\n",
    "    }\n",
    "    }\n",
    "}\n",
    "\n",
    "es.indices.create(index='english', body=body)"
   ]
  },
  {
   "cell_type": "code",
   "execution_count": 261,
   "id": "c8c08961-c992-4d57-b63a-19003296ad9b",
   "metadata": {
    "tags": []
   },
   "outputs": [
    {
     "name": "stderr",
     "output_type": "stream",
     "text": [
      "/Users/adam/opt/anaconda3/lib/python3.7/site-packages/ipykernel_launcher.py:21: DeprecationWarning: The 'body' parameter is deprecated and will be removed in a future version. Instead use individual parameters.\n",
      "/Users/adam/opt/anaconda3/lib/python3.7/site-packages/ipykernel_launcher.py:18: DeprecationWarning: The 'body' parameter is deprecated and will be removed in a future version. Instead use individual parameters.\n"
     ]
    },
    {
     "data": {
      "text/plain": [
       "(35, [])"
      ]
     },
     "execution_count": 261,
     "metadata": {},
     "output_type": "execute_result"
    }
   ],
   "source": [
    "from elasticsearch import Elasticsearch\n",
    "from elasticsearch import helpers\n",
    "import json\n",
    "import re\n",
    "\n",
    "def check(_id):\n",
    "    query = {\n",
    "        \"query\": {\n",
    "            \"bool\": {\n",
    "                \"must\": {\n",
    "                    \"term\": {\n",
    "                        \"index\": _id\n",
    "                    }\n",
    "                }\n",
    "            }\n",
    "        }\n",
    "    }\n",
    "    result = es.search(index='english', body=query)\n",
    "    return result['hits']['total']['value'] \n",
    "    \n",
    "with open('corpus.json', 'r')as f:\n",
    "    data = f.read()\n",
    "    corpus = eval(data)\n",
    "    f.close()\n",
    "\n",
    "def load_datas():\n",
    "    actions = list()\n",
    "    for idx in corpus.keys():\n",
    "        flag = 0 # cloze\n",
    "        for i, parag in enumerate(corpus[idx]):\n",
    "            parag = parag.replace(\"'s\", \" is\").replace(\"'re\", \" are\").replace(\"'t\", \" not\")\n",
    "            parag = re.sub(r'[\\u0080-\\uffef]', '', parag)\n",
    "            parag = re.sub(r'[^a-zA-Z]', ' ', parag)\n",
    "            if len(parag) == 0:\n",
    "                flag = 1 # reading\n",
    "                n_cloze = i\n",
    "                continue\n",
    "            if flag == 0: # cloze\n",
    "                index = 'h-' + idx + '-c-' + str(i)\n",
    "            else: # reading\n",
    "                index = 'h-' + idx + '-r-' + str(i-n_cloze)\n",
    "            if check(index) > 0:\n",
    "                continue\n",
    "            actions.append({\n",
    "                \"_index\": \"english\",\n",
    "                \"_op_type\": \"index\",\n",
    "                \"_source\": {\n",
    "                    \"index\": index,\n",
    "                    \"content\": parag\n",
    "                }\n",
    "            })\n",
    "    return actions\n",
    "\n",
    "\n",
    "data = load_datas()\n",
    "helpers.bulk(es, data)"
   ]
  },
  {
   "cell_type": "code",
   "execution_count": 265,
   "id": "18af0d8b-fd1e-47e7-a0db-a1147256c956",
   "metadata": {},
   "outputs": [
    {
     "name": "stdout",
     "output_type": "stream",
     "text": [
      "1\n"
     ]
    },
    {
     "name": "stderr",
     "output_type": "stream",
     "text": [
      "/Users/adam/opt/anaconda3/lib/python3.7/site-packages/ipykernel_launcher.py:28: DeprecationWarning: The 'body' parameter is deprecated and will be removed in a future version. Instead use individual parameters.\n"
     ]
    }
   ],
   "source": [
    "q1 = {\"query\": {\n",
    "        \"multi_match\": {\n",
    "            \"query\":    \"Hi\",\n",
    "            \"fields\":   [ \"content\" ]\n",
    "        }\n",
    "    }\n",
    "}\n",
    "\n",
    "q2 = {\"query\": {\n",
    "        \"multi_match\": {\n",
    "            \"query\":    \"h-1-1-c-1\",\n",
    "            \"fields\":   [ \"index\" ]\n",
    "        }\n",
    "    }\n",
    "}\n",
    "\n",
    "q3 = {\"query\": {\n",
    "        \"bool\": {\n",
    "            \"must\": {\n",
    "                \"term\": {\n",
    "                    \"index\": \"h-1-1-c-1\"\n",
    "                }\n",
    "            }\n",
    "        }\n",
    "    }\n",
    "}\n",
    "\n",
    "result = es.search(index='english', body=q3, size=100) # size is maximun number of hits\n",
    "count = len(result['hits']['hits'])\n",
    "print(count)"
   ]
  },
  {
   "cell_type": "code",
   "execution_count": 266,
   "id": "339f8576-3215-4a66-9788-af63fcf3e19c",
   "metadata": {},
   "outputs": [
    {
     "data": {
      "text/plain": [
       "[{'_index': 'english',\n",
       "  '_id': 'axDsvoQBWLfKW9tYQxyF',\n",
       "  '_score': 1.7917595,\n",
       "  '_source': {'index': 'h-1-1-c-1',\n",
       "   'content': 'Milly  Hi  Annie   Nice to see you again Annie  Hi  Milly   Nice to see you  too      Milly  Not bad   Thank you       you Annie  Im OK   Thanks Milly  Annie  this is my sister  Sue Annie  Hello  Sue      Sue  Nice to meet you  too     How do you do   Who are you   How are you   What are you     Oh  Really  Hows  And    Nice to meet you   Nice to see you   How are you   How do you do '}}]"
      ]
     },
     "execution_count": 266,
     "metadata": {},
     "output_type": "execute_result"
    }
   ],
   "source": [
    "result['hits']['hits']"
   ]
  },
  {
   "cell_type": "code",
   "execution_count": 259,
   "id": "9f26df4a-f979-4b7a-a033-bc5af9c5e7f0",
   "metadata": {},
   "outputs": [
    {
     "data": {
      "text/plain": [
       "ObjectApiResponse({'acknowledged': True})"
      ]
     },
     "execution_count": 259,
     "metadata": {},
     "output_type": "execute_result"
    }
   ],
   "source": [
    "# es.options(ignore_status=[400,404]).indices.delete(index='english')"
   ]
  },
  {
   "cell_type": "code",
   "execution_count": null,
   "id": "6cdc5e08-6797-489b-aa84-5b9a2384ceff",
   "metadata": {},
   "outputs": [],
   "source": []
  }
 ],
 "metadata": {
  "kernelspec": {
   "display_name": "Python 3 (ipykernel)",
   "language": "python",
   "name": "python3"
  },
  "language_info": {
   "codemirror_mode": {
    "name": "ipython",
    "version": 3
   },
   "file_extension": ".py",
   "mimetype": "text/x-python",
   "name": "python",
   "nbconvert_exporter": "python",
   "pygments_lexer": "ipython3",
   "version": "3.7.11"
  }
 },
 "nbformat": 4,
 "nbformat_minor": 5
}
